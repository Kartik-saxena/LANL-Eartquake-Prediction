{
  "nbformat": 4,
  "nbformat_minor": 0,
  "metadata": {
    "colab": {
      "name": "LANL Earthquake.ipynb",
      "version": "0.3.2",
      "provenance": [],
      "collapsed_sections": [],
      "include_colab_link": true
    },
    "kernelspec": {
      "name": "python3",
      "display_name": "Python 3"
    }
  },
  "cells": [
    {
      "cell_type": "markdown",
      "metadata": {
        "id": "view-in-github",
        "colab_type": "text"
      },
      "source": [
        "<a href=\"https://colab.research.google.com/github/Kartik-saxena/LANL-Eartquake-Prediction/blob/master/LANL_Earthquake.ipynb\" target=\"_parent\"><img src=\"https://colab.research.google.com/assets/colab-badge.svg\" alt=\"Open In Colab\"/></a>"
      ]
    },
    {
      "cell_type": "code",
      "metadata": {
        "id": "Z-4kIjLUXYq_",
        "colab_type": "code",
        "outputId": "8d792091-492a-4993-b0b5-43cfff3fbab7",
        "colab": {
          "base_uri": "https://localhost:8080/",
          "height": 218
        }
      },
      "source": [
        "!pip install kaggle\n",
        "!pip install numpy\n",
        "!pip install -q kaggle\n",
        "\n",
        "import os\n",
        "import pandas as pd\n",
        "import numpy as np\n",
        "import matplotlib.pyplot as plt\n",
        "from sklearn.ensemble import RandomForestRegressor, GradientBoostingRegressor\n",
        "from sklearn.model_selection import train_test_split\n",
        "from sklearn.model_selection import KFold\n",
        "from sklearn.preprocessing import StandardScaler\n",
        "from sklearn.model_selection import GridSearchCV\n",
        "from sklearn.svm import SVR"
      ],
      "execution_count": 2,
      "outputs": [
        {
          "output_type": "stream",
          "text": [
            "Requirement already satisfied: kaggle in /usr/local/lib/python3.6/dist-packages (1.5.3)\n",
            "Requirement already satisfied: python-slugify in /usr/local/lib/python3.6/dist-packages (from kaggle) (3.0.2)\n",
            "Requirement already satisfied: six>=1.10 in /usr/local/lib/python3.6/dist-packages (from kaggle) (1.12.0)\n",
            "Requirement already satisfied: python-dateutil in /usr/local/lib/python3.6/dist-packages (from kaggle) (2.5.3)\n",
            "Requirement already satisfied: tqdm in /usr/local/lib/python3.6/dist-packages (from kaggle) (4.28.1)\n",
            "Requirement already satisfied: certifi in /usr/local/lib/python3.6/dist-packages (from kaggle) (2019.3.9)\n",
            "Requirement already satisfied: urllib3<1.25,>=1.21.1 in /usr/local/lib/python3.6/dist-packages (from kaggle) (1.24.3)\n",
            "Requirement already satisfied: requests in /usr/local/lib/python3.6/dist-packages (from kaggle) (2.21.0)\n",
            "Requirement already satisfied: text-unidecode==1.2 in /usr/local/lib/python3.6/dist-packages (from python-slugify->kaggle) (1.2)\n",
            "Requirement already satisfied: chardet<3.1.0,>=3.0.2 in /usr/local/lib/python3.6/dist-packages (from requests->kaggle) (3.0.4)\n",
            "Requirement already satisfied: idna<2.9,>=2.5 in /usr/local/lib/python3.6/dist-packages (from requests->kaggle) (2.8)\n",
            "Requirement already satisfied: numpy in /usr/local/lib/python3.6/dist-packages (1.16.3)\n"
          ],
          "name": "stdout"
        }
      ]
    },
    {
      "cell_type": "code",
      "metadata": {
        "id": "fYR3fy-Kfe3K",
        "colab_type": "code",
        "outputId": "ca28d4c4-127b-4172-d3fe-d470a8859603",
        "colab": {
          "resources": {
            "http://localhost:8080/nbextensions/google.colab/files.js": {
              "data": "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",
              "ok": true,
              "headers": [
                [
                  "content-type",
                  "application/javascript"
                ]
              ],
              "status": 200,
              "status_text": ""
            }
          },
          "base_uri": "https://localhost:8080/",
          "height": 74
        }
      },
      "source": [
        "# Upload kagle.json, which is downloaded from 'my account' on kaggle homepage\n",
        "from google.colab import files\n",
        "files.upload()\n",
        "\n",
        "!mkdir -p ~/.kaggle\n",
        "!cp kaggle.json ~/.kaggle/"
      ],
      "execution_count": 3,
      "outputs": [
        {
          "output_type": "display_data",
          "data": {
            "text/html": [
              "\n",
              "     <input type=\"file\" id=\"files-18170911-a118-4242-83d1-f8ff6afd1b1c\" name=\"files[]\" multiple disabled />\n",
              "     <output id=\"result-18170911-a118-4242-83d1-f8ff6afd1b1c\">\n",
              "      Upload widget is only available when the cell has been executed in the\n",
              "      current browser session. Please rerun this cell to enable.\n",
              "      </output>\n",
              "      <script src=\"/nbextensions/google.colab/files.js\"></script> "
            ],
            "text/plain": [
              "<IPython.core.display.HTML object>"
            ]
          },
          "metadata": {
            "tags": []
          }
        },
        {
          "output_type": "stream",
          "text": [
            "Saving kaggle.json to kaggle (1).json\n"
          ],
          "name": "stdout"
        }
      ]
    },
    {
      "cell_type": "code",
      "metadata": {
        "id": "wVy6C1ddcAUv",
        "colab_type": "code",
        "outputId": "5193c73f-3db0-47c5-88ed-2e5d8a675b96",
        "colab": {
          "base_uri": "https://localhost:8080/",
          "height": 403
        }
      },
      "source": [
        "# get name of competition\n",
        "!kaggle competitions list"
      ],
      "execution_count": 3,
      "outputs": [
        {
          "output_type": "stream",
          "text": [
            "Warning: Your Kaggle API key is readable by other users on this system! To fix this, you can run 'chmod 600 /root/.kaggle/kaggle.json'\n",
            "ref                                                deadline             category            reward  teamCount  userHasEntered  \n",
            "-------------------------------------------------  -------------------  ---------------  ---------  ---------  --------------  \n",
            "digit-recognizer                                   2030-01-01 00:00:00  Getting Started  Knowledge       3040           False  \n",
            "titanic                                            2030-01-01 00:00:00  Getting Started  Knowledge      11288            True  \n",
            "house-prices-advanced-regression-techniques        2030-01-01 00:00:00  Getting Started  Knowledge       4766           False  \n",
            "imagenet-object-localization-challenge             2029-12-31 07:00:00  Research         Knowledge         38           False  \n",
            "competitive-data-science-predict-future-sales      2019-12-31 23:59:00  Playground           Kudos       3194           False  \n",
            "recognizing-faces-in-the-wild                      2019-08-01 23:59:00  Playground       Knowledge        164           False  \n",
            "two-sigma-financial-news                           2019-07-15 23:59:00  Featured          $100,000       2927           False  \n",
            "aerial-cactus-identification                       2019-07-08 23:59:00  Playground       Knowledge        636           False  \n",
            "jigsaw-unintended-bias-in-toxicity-classification  2019-06-26 23:59:00  Featured           $65,000       2238           False  \n",
            "data-science-for-good-city-of-los-angeles          2019-06-21 23:59:00  Analytics          $15,000          0           False  \n",
            "instant-gratification                              2019-06-20 23:59:00  Featured            $5,000        583           False  \n",
            "imaterialist-fashion-2019-FGVC6                    2019-06-10 23:59:00  Research             Kudos        124           False  \n",
            "inaturalist-2019-fgvc6                             2019-06-10 23:59:00  Research             Kudos        186           False  \n",
            "freesound-audio-tagging-2019                       2019-06-10 11:59:00  Research            $5,000        717           False  \n",
            "iwildcam-2019-fgvc6                                2019-06-07 23:59:00  Playground           Kudos        267           False  \n",
            "imet-2019-fgvc6                                    2019-06-04 23:59:00  Research             Kudos        474           False  \n",
            "LANL-Earthquake-Prediction                         2019-06-03 23:59:00  Research           $50,000       4288            True  \n",
            "landmark-recognition-2019                          2019-06-03 23:59:00  Research           $25,000        242           False  \n",
            "landmark-retrieval-2019                            2019-06-03 23:59:00  Research           $25,000        133           False  \n",
            "tmdb-box-office-prediction                         2019-05-30 23:59:00  Playground       Knowledge       1274           False  \n"
          ],
          "name": "stdout"
        }
      ]
    },
    {
      "cell_type": "code",
      "metadata": {
        "id": "sTiGlijBcBDL",
        "colab_type": "code",
        "outputId": "1129ecc4-7be1-40b3-d11f-24fcab1c868e",
        "colab": {
          "base_uri": "https://localhost:8080/",
          "height": 84
        }
      },
      "source": [
        "# Download dataset\n",
        "!kaggle competitions download -c LANL-Earthquake-Prediction\n"
      ],
      "execution_count": 4,
      "outputs": [
        {
          "output_type": "stream",
          "text": [
            "Warning: Your Kaggle API key is readable by other users on this system! To fix this, you can run 'chmod 600 /root/.kaggle/kaggle.json'\n",
            "sample_submission.csv: Skipping, found more recently modified local copy (use --force to force download)\n",
            "test.zip: Skipping, found more recently modified local copy (use --force to force download)\n",
            "train.csv.zip: Skipping, found more recently modified local copy (use --force to force download)\n"
          ],
          "name": "stdout"
        }
      ]
    },
    {
      "cell_type": "code",
      "metadata": {
        "id": "RryUoyOkNfdr",
        "colab_type": "code",
        "colab": {
          "base_uri": "https://localhost:8080/",
          "height": 11071
        },
        "outputId": "e5d4fd3b-2731-41a0-8b15-5f6e679379f6"
      },
      "source": [
        "!ls"
      ],
      "execution_count": 5,
      "outputs": [
        {
          "output_type": "stream",
          "text": [
            "'kaggle (1).json'\t seg_42648c.csv   seg_8456d3.csv   seg_c20c06.csv\n",
            " kaggle.json\t\t seg_4280d9.csv   seg_845a2a.csv   seg_c21723.csv\n",
            " sample_data\t\t seg_428d66.csv   seg_8472f3.csv   seg_c21d60.csv\n",
            " sample_submission.csv\t \n"
          ],
          "name": "stdout"
        }
      ]
    },
    {
      "cell_type": "code",
      "metadata": {
        "id": "9Zj9SKvklmi9",
        "colab_type": "code",
        "outputId": "9f5df381-fbbc-4111-c331-8f93ccd2a370",
        "colab": {
          "base_uri": "https://localhost:8080/",
          "height": 50
        }
      },
      "source": [
        "!unzip train.csv.zip\n"
      ],
      "execution_count": 5,
      "outputs": [
        {
          "output_type": "stream",
          "text": [
            "Archive:  train.csv.zip\n",
            "  inflating: train.csv\n"
          ],
          "name": "stdout"
        }
      ]
    },
    {
      "cell_type": "code",
      "metadata": {
        "id": "1EoZGYgkNc_f",
        "colab_type": "code",
        "colab": {
          "base_uri": "https://localhost:8080/",
          "height": 44117
        },
        "outputId": "e17f3848-69bc-4e5c-bcc6-b6c82978ea98"
      },
      "source": [
        "!unzip test.zip\n"
      ],
      "execution_count": 10,
      "outputs": [
        {
          "output_type": "stream",
          "text": [
            "Archive:  test.zip\n",
           
          ],
          "name": "stdout"
        }
      ]
    },
    {
      "cell_type": "code",
      "metadata": {
        "colab_type": "code",
        "id": "nIFRfBnMNZ-a",
        "colab": {}
      },
      "source": [
        "train_df = pd.read_csv('train.csv', dtype={'acoustic_data': np.int16, 'time_to_failure': np.float64}, nrows = 6000000)"
      ],
      "execution_count": 0,
      "outputs": []
    },
    {
      "cell_type": "code",
      "metadata": {
        "id": "Af8Rz26hOEfm",
        "colab_type": "code",
        "colab": {
          "base_uri": "https://localhost:8080/",
          "height": 134
        },
        "outputId": "3d48f3a4-c55d-4419-dde8-f4697b844567"
      },
      "source": [
        "\n",
        "test_check = pd.read_csv('seg_00030f.csv', dtype={'acoustic_data': np.int16, 'time_to_failure': np.float64})\n",
        "print(test_check.head())\n",
        "print(test_check.shape)\n",
        "del(test_check)\n",
        "\n",
        "# Dimension of one test file is (150000,1)"
      ],
      "execution_count": 17,
      "outputs": [
        {
          "output_type": "stream",
          "text": [
            "   acoustic_data\n",
            "0              4\n",
            "1              0\n",
            "2             -2\n",
            "3              0\n",
            "4              2\n",
            "(150000, 1)\n"
          ],
          "name": "stdout"
        }
      ]
    },
    {
      "cell_type": "code",
      "metadata": {
        "id": "EniQM-GfZiKo",
        "colab_type": "code",
        "outputId": "5e4f28f4-058f-4973-b789-56fd67876e58",
        "colab": {
          "base_uri": "https://localhost:8080/",
          "height": 607
        }
      },
      "source": [
        "# Visual representation\n",
        "\n",
        "fig,ax1 = plt.subplots(figsize = (20,10))\n",
        "plt.title('Sample data visualization')\n",
        "plt.plot(train_df['acoustic_data'], color = 'r')\n",
        "ax1.set_ylabel('acoustic data', color = 'r')\n",
        "plt.legend(['acoustic data'],loc=(0.01, 0.85))\n",
        "\n",
        "ax2 = ax1.twinx()\n",
        "plt.plot(train_df['time_to_failure'], color = 'b')\n",
        "ax1.set_ylabel('time_to_failure', color = 'b')\n",
        "plt.legend(['time_to_failure'],loc=(0.01, 0.9))\n",
        "plt.grid(True)\n"
      ],
      "execution_count": 17,
      "outputs": [
        {
          "output_type": "display_data",
          "data": {
            "image/png": "iVBORw0KGgoAAAANSUhEUgAABLUAAAJOCAYAAABBQDXYAAAABHNCSVQICAgIfAhkiAAAAAlwSFlz\nAAALEgAACxIB0t1+/AAAADl0RVh0U29mdHdhcmUAbWF0cGxvdGxpYiB2ZXJzaW9uIDMuMC4zLCBo\ndHRwOi8vbWF0cGxvdGxpYi5vcmcvnQurowAAIABJREFUeJzs3WmYFNX59/HfjWAQZEdNFBXikihI\nwC247wkqicbdxLigolGfvySKcYu4a6JRNCQaDARcE3cN4opOcCUqIiqggKgMIsvAsG/D3M+L02VX\n93T39KxNz3w/11VXd1Wdqjq1dHXVXafOMXcXAAAAAAAAUExaFDoDAAAAAAAAQE0R1AIAAAAAAEDR\nIagFAAAAAACAokNQCwAAAAAAAEWHoBYAAAAAAACKDkEtAAAAAAAAFB2CWgAAoNkys2vN7MF6mtdo\nM7uxPuZVx3xcaWb/aOBlfLuuZnaAmX3aAMv4lZm9VN/zBQAATQdBLQAA0OjMbH8ze8vMlprZYjN7\n08z2KnS+GouZlZjZOQ0xb3e/2d0bZN5Zlve6u/+gLvMws+5m5mbWMjbfh9z9J3XPIQAAaKpaVp8E\nAACg/phZe0ljJf1G0qOSNpV0gKS1hcwXAAAAigsltQAAQGPbWZLc/RF33+Duq939JXefIklmtoOZ\nvWpmZWa2yMweMrOO0cRm9oWZDTGzKWa20sxGmtlWZva8mS03s1fMrFMibVQCaJCZfW1m88zs0mwZ\nM7N+iRJk5Wb2oZkdnCNtXzOblFjmvyW1jo3rZGZjzWyhmS1JfO+WGHeTQhBvuJmtMLPhieF3mdkc\nM1tmZu+b2QFZlvtjM/vGzDaJDfuFmUXb79tXKs2stZk9mNiW5Wb2rpltFduOh8fmkfIqppk9lljO\nUjObYGY9s+TnYDMrTXw/ObFOUbfWzEoS4442sw8S6zfHzK6NzWZC4rM8Md0+Znammb0RW86+ifwv\nTXzuGxtXYmY3JEr8LTezl8ysa7Z9BwAAmgaCWgAAoLF9JmmDmY0xsyOjAFSMSbpF0taSdpG0raRr\n09IcL+kIhQDZzyQ9L+lKSVsoXN/8X1r6QyTtJOknkn4fD+Z8u1CzbSQ9J+lGSZ0lXSrpCTPbIkPa\nTSU9LemBRNrHEnmKtJD0T0nbS9pO0mpJwyXJ3a+S9Lqki9x9c3e/KDHNu5L6JOb3sKTHzKy10rj7\nREkrJR0aG/zLxDTpzpDUQWEbdpF0fiIv+XheYZttKWmSpIeqm8Dd/51Yp80V9t/nkh5JjF4p6XRJ\nHSUdLek3ZnZsYtyBic+Oienfjs/XzDor7Ju7E+txh6TnzKxLLNkvJZ2VyO+mCvsPAAA0YQS1AABA\no3L3ZZL2l+SS7pO00MyejUoQuftMd3/Z3de6+0KFAMZBabP5i7vPd/e5CgGiie7+gbuvkfSUpL5p\n6a9z95Xu/pFCsOnUDFk7TdI4dx/n7pXu/rKk9yQdlSFtP0mtJA1z9/Xu/rhCUCpaxzJ3f8LdV7n7\nckk3ZViH9O3yYGK6Cnf/s6TvSMpWV9Uj0TqYWbtEHh/JkG69QhBox0SpuPcT279a7j7K3Ze7+1qF\noOKPzKxDPtOaWQuFIFuJu/89Mb8Sd/8osW2nJPKbc5vEHC1phrs/kNg+j0iarhDQjPzT3T9z99UK\nr7X2yXPeAACgSBHUAgAAjc7dp7n7me7eTVIvhVI9wyQp8Srhv8xsrpktk/SgpPRXyebHvq/O0L95\nWvo5se9fJpaXbntJJyZe0ys3s3KF4Nv3MqTdWtJcd/e0+SqxDm3M7O9m9mViHSZI6hh/ZTCdmV1q\nZtMSr9eVK5SwyvYK3cOSjjOz70g6TtIkd/8yQ7oHJL0o6V+J1y//ZGatsuUhlpdNzOxWM5uVyP8X\niVH5vtJ3k6R2ipWYS7w2+VrilcylCqXG8p3f1opt34QvJW0T6/8m9n2Vqh4DAACgiSGoBQAACsrd\np0sarRDckqSbFUpx7ebu7RVKUFkdF7Nt7Pt2kr7OkGaOpAfcvWOsa+vut2ZIO0/SNmYWz9d2se+X\nKJSy+nFiHaLX66L08WCYEvVnXSbpJEmd3L2jpKXKst7uPlUhqHOksr96qEQpsuvcfVdJ+0oaoPAK\noBReB2wTS/7d2PdfSjpG0uEKwbXuafnPysxOUShFdoK7r4+NeljSs5K2dfcOku5Vlu2RwdcKQce4\n7STNrS4/AACg6SKoBQAAGpWZ/dDMLolVnL6tQhDknUSSdpJWSFqaqOdqSD0s9g+J0lM9Fepd+neG\nNA9K+pmZ/TRRUql1ohL0bhnSvi2pQtL/mVkrMztO0t6x8e0USoyVJ+qDGpo2/XxJ309LXyFpoaSW\nZnaNpPbVrNPDki5WCJg9limBmR1iZrslSogtU3gdsTIxerKkUxL531PSCWn5WSupTCHwdXM1eYmW\n11fSXyQdm3h1NK6dpMXuvsbM9lYInEUWJvL1fWU2TtLOZvZLM2tpZidL2lWhFU0AANBMEdQCAACN\nbbmkH0uaaGYrFYJZHyuUbpKk6yTtrlBS6TlJT9bDMv8raaak8ZJud/eX0hO4+xyF0klXKgRZ5igE\n1KpcL7n7OoXX/s6UtFjSyWn5HCZpM0mLFNbvhbRZ3CXpBAstI96t8IrgCwqV6H8paY1SX5nMJKqT\n6lV3X5QlzXclPa4Q0JqmsB0eSIz7g6QdJC1R2Obx0l73J/IxV9JUJQOO1TlGUidJb8RaQHw+Me4C\nSdeb2XJJ1yjUeyVJcvdVCq8svpl49bNffKbuXqZQyuwShUDbZZIG5FhvAADQDFhqVRAAAABNh5l1\nlzRbUit3ryhsbgAAAFCfKKkFAAAAAACAokNQCwAAAAAAAEWH1w8BAAAAAABQdCipBQAAAAAAgKLT\nstAZKKQWLVr4ZpttVuhsAAAAAAAANBmrVq1yd2/wglTNOqi12WabaeXKlYXOBgAAAAAAQJNhZqsb\nYzm8fggAAAAAAIBGY2ajzGyBmX0cG3abmU03sylm9pSZdaxuPgS1AAAAAAAA0JhGS+qfNuxlSb3c\nvbekzyRdUd1MCGoBAAAAAACg0bj7BEmL04a95O4Vid53JHWrbj7Nuk6tzp07q6SkpNDZAAAAAAAA\naEpamtl7sf4R7j6iBtMPlPTv6hKZu9c4Z01F27ZtnYriAQAAAAAA6o+ZrXL3ttWk6S5prLv3Sht+\nlaQ9JR3n1QStmnVJLQAAAAAAAGwczOxMSQMkHVZdQEsiqAUAAAAAAIACM7P+ki6TdJC7r8pnGiqK\nBwAAAAAAQKMxs0ckvS3pB2ZWamZnSxouqZ2kl81sspndW+18qFOLOrUAAAAAAADqSz51atUHSmoB\nAAAAAACg6BDUAgAAAAAAQNEhqAUAAAAAAICiQ1ALAAAAAAAARYegFgAAAAAAAIoOQS0AAAAAAAAU\nHYJaAAAAAAAAKDoEtQAAAAAAAFB0CGoBAAAAAACg6BDUAgAAAAAAQNEhqAUAAAAAAICiQ1ALAAAA\nAAAARYegFgAAAAAAAIpOy0JnAAAAAACahXPOkfbeWxo0qNA5AYrGGWdIkyZJ7dtLW2whtWsnde0a\n+rt0kTp0kDp3ljp2TH526iS1aVPonKMxmLsXOg8F07ZtW1+5cmWhswEAAACgOTALn834HgyoqTZt\npNWrpYMPlsrKpGXLpIULpVWrck+36aYhwBUFvuKf7duHwFg8QBb1b7FFWGb0c0XtmNkqd2/b0Muh\npBYAAAAAANgotWolnXeedOedqcM3bJAWLZJWrAhBruXLk5+LFlXt/+Yb6ZNPpKVLQ1dZmX2ZLVqE\nINfmm6eWDouXCuvUKbWLSoq1aydtsknDbhMkEdQCAAAAAABFZZNNpK22Ct0OO9Rs2oqKEAxbsiR0\n5eWhFNjSpamfy5dLCxaEz88/TwbIchW2bNEiBLii0l/ppcKi0mCZPtu3l77znbptl+aGoBYAAAAA\nAGg2WrYMgaeOHaUePWo2bWVleB1ywYLUUmKLFoVXI6PPKDi2eLE0ZUoygLZuXfZ5n3aa9MADdVu3\n5oagFgAAAAAAQB5atJDatq15MCyyenUIdJWXh8+lS5OvUe64Y/3mtTkgqAUAAAAAANAINttM2mab\n0KHuWhQ6AwAAAAAAAEBNEdQCAAAAAABA0SGoBQAAAAAAgKJDUAsAAAAAAABFh6AWAAAAAAAAig6t\nH+Zp/fr1Ki0t1Zo1awqdFeSpdevW6tatm1q1alXorAAAAAAAgHpGUCtPpaWlateunbp37y4zK3R2\nUA13V1lZmUpLS9WjR49CZwcAAAAAANSzgr5+aGatzex/ZvahmX1iZtclhvcws4lmNtPM/m1mmyaG\nfyfRPzMxvntsXlckhn9qZj+t77yuWbNGXbp0IaBVJMxMXbp0oWQdAAAAAABNVKHr1For6VB3/5Gk\nPpL6m1k/SX+UdKe77yhpiaSzE+nPlrQkMfzORDqZ2a6STpHUU1J/SX8zs03qO7MEtIoL+wsAAAAA\ngKaroEEtD1YkelslOpd0qKTHE8PHSDo28f2YRL8S4w+zELk4RtK/3H2tu8+WNFPS3o2wCgAAAAAA\nACiAQpfUkpltYmaTJS2Q9LKkWZLK3b0ikaRU0jaJ79tImiNJifFLJXWJD88wTfryBpnZe2b2XkVF\nRaYkAAAAAAAA2MgVPKjl7hvcvY+kbgqlq37YwMsb4e57uvueLVsWTz355eXl+tvf/iZJ+vrrr3XC\nCSc02LKefvppTZ06tVbTTp8+XX369FHfvn01a9asrOmOOuoolZeXS5I233zzWi0LAAAAAAA0XxtN\nVMfdy83sNUn7SOpoZi0TpbG6SZqbSDZX0raSSs2spaQOkspiwyPxaerd4MHS5Mn1O88+faRhw7KP\nj4JaF1xwgbbeems9/vjj2RPX0dNPP60BAwZo1113rdW0J5xwgq6++uqc6caNG1fb7GnDhg3aZJN6\nrzINAAAAAAAUkUK3friFmXVMfN9M0hGSpkl6TVJUFOkMSc8kvj+b6Fdi/Kvu7onhpyRaR+whaSdJ\n/2uctWgcl19+uWbNmqU+ffroxBNPVK9evSRJo0eP1rHHHqsjjjhC3bt31/Dhw3XHHXeob9++6tev\nnxYvXixJmjVrlvr376899thDBxxwgKZPn55xOW+99ZaeffZZDRkyRH369NGsWbM0efJk9evXT717\n99YvfvELLVmyJOO048aN07Bhw3TPPffokEMOkSQde+yx2mOPPdSzZ0+NGDHi27Tdu3fXokWLUqYv\nKSnRgAEDvu2/6KKLNHr06G/T//73v9fuu++uxx57LO/1AQAAAAAATVOhS2p9T9KYREuFLSQ96u5j\nzWyqpH+Z2Y2SPpA0MpF+pKQHzGympMUKLR7K3T8xs0clTZVUIelCd9/QUJnOVaKqodx66636+OOP\nNXnyZH3xxRcpwZ+PP/5YH3zwgdasWaMdd9xRf/zjH/XBBx/ot7/9re6//34NHjxYgwYN0r333qud\ndtpJEydO1AUXXKBXX321ynL23Xdf/fznP9eAAQO+fcWxd+/e+stf/qKDDjpI11xzja677joNy7AR\njjrqKJ1//vnafPPNdemll0qSRo0apc6dO2v16tXaa6+9dPzxx6tLly612gZdunTRpEmTJEmHHXZY\nXusDAAAAAACapoIGtdx9iqS+GYZ/rgytF7r7GkknZpnXTZJuqu88FoNDDjlE7dq1U7t27dShQwf9\n7Gc/kyTttttumjJlilasWKG33npLJ56Y3HRr167Na95Lly5VeXm5DjroIEnSGWeckTKf6tx99916\n6qmnJElz5szRjBkzah3UOvnkkyWpTusDAAAAAACahkKX1EI9+M53vvPt9xYtWnzb36JFC1VUVKiy\nslIdO3bU5PquCKwaJSUleuWVV/T222+rTZs2Ovjgg7VmzZqs6Vu2bKnKyspv+9PTtm3bVpIKtj4A\nAAAAAGDjUfDWD5Gfdu3aafny5bWatn379urRo4cee+wxSZK768MPP8xrWR06dFCnTp30+uuvS5Ie\neOCBb0ttVWfp0qXq1KmT2rRpo+nTp+udd97JmX777bfX1KlTtXbtWpWXl2v8+PH1sj4AAAAAAKDp\nIahVJLp06aL99ttPvXr10pAhQ2o8/UMPPaSRI0fqRz/6kXr27Klnnnkma9pTTjlFt912m/r27atZ\ns2ZpzJgxGjJkiHr37q3JkyfrmmuuyWuZ/fv3V0VFhXbZZRddfvnl6tevX8702267rU466ST16tVL\nJ510kvr2rfJmaq3WBwAAAAAAND0WGg9sntq2besrV67MK+20adO0yy67NHCOUN/YbwAAANhomIXP\nZnwPBtRUhw7SwIHSnXcWOieoCTNb5e5tG3o5lNQCAAAAAABA0aGi+Gbspptu+rZeqsiJJ56oq666\nqtppL7zwQr355pspwy6++GKdddZZ9ZpHAAAAAACATHj9sAavH/7whz+URUWGsdFzd02fPp3XDwEA\nALBx4PVDoMZ4/bA48frhRqZ169YqKytTcw4CFhN3V1lZmVq3bl3orAAAAAAAgAbA64d56tatm0pL\nS7Vw4cJCZwV5at26tbp161bobAAAAAAAgAZAUCtPrVq1Uo8ePQqdDQAAAAAAAIjXDwEAAAAAAFCE\nCGoBAAAAAACg6BDUAgAAAAAAQNEhqAUAAAAAAICiQ1ALAAAAAAAARYegFgAAAAAAAIoOQS0AAAAA\nAAAUnZaFzkCxWL9+vUpLS7VmzZpCZwUxrVu3Vrdu3dSqVatCZwUAAAAAADQiglp5Ki0tVbt27dS9\ne3eZWaGzA0nurrKyMpWWlqpHjx6Fzg4AAAAAAGhEvH6YpzVr1qhLly4EtDYiZqYuXbpQeg4AAAAA\ngGaIoFYNENDa+LBPAAAAAABonghqAQAAAAAAoOgQ1EJOw4YN06pVq77tP+qoo1ReXl6reXXv3l2L\nFi3Kmebmm2+u1bwBAAAAAEDzQlALOaUHtcaNG6eOHTs22PIIagEAAAAAgHzQ+mFtDB4sTZ5cv/Ps\n00caNixnkmOPPVZz5szRmjVrdPHFF2vQoEGSpBdeeEFXXnmlNmzYoK5du2r8+PFavHixBg4cqM8/\n/1xt2rTRiBEj1Lt3b1177bXafPPNdemll0qSevXqpbFjx2qLLbbQSSedpNLSUm3YsEF/+MMfNH/+\nfH399dc65JBD1LVrV7322mvq3r273nvvPXXt2lX333+/br/9dpmZevfurQceeCAlv2VlZTr11FM1\nd+5c7bPPPnL3nOty+eWXa/Xq1erTp4969uyphx56KOs6AwAAAACA5o2gVhEZNWqUOnfurNWrV2uv\nvfbS8ccfr8rKSp177rmaMGGCevToocWLF0uShg4dqr59++rpp5/Wq6++qtNPP12TcwTiXnjhBW29\n9dZ67rnnJElLly5Vhw4ddMcdd+i1115T165dU9J/8sknuvHGG/XWW2+pa9eu3y437rrrrtP++++v\na665Rs8995xGjhyZc11uvfVWDR8+PCWfmdJ16dKlTtsRAAAAAAAUP4JatVFNiaqGcvfdd+upp56S\nJM2ZM0czZszQwoULdeCBB6pHjx6SpM6dO0uS3njjDT3xxBOSpEMPPVRlZWVatmxZ1nnvtttuuuSS\nS/T73/9eAwYM0AEHHJAzL6+++qpOPPHEb4Nd0XLjJkyYoCeffFKSdPTRR6tTp0451yVTsCrfdAAA\nAAAAoHmhTq0iUVJSoldeeUVvv/22PvzwQ/Xt21dr1qyp8XxatmypysrKb/ujeey8886aNGmSdttt\nN1199dW6/vrr6y3v6fJdl/paZwAAAAAA0PQQ1CoSS5cuVadOndSmTRtNnz5d77zzjiSpX79+mjBh\ngmbPni1J374GeMABB+ihhx6SFIJDXbt2Vfv27dW9e3dNmjRJkjRp0qRvp/v666/Vpk0bnXbaaRoy\nZMi3adq1a6fly5dXyc+hhx6qxx57TGVlZSnLjTvwwAP18MMPS5Kef/55LVmyJOe6SFKrVq20fv36\natMBAAAAAIDmjdcPi0T//v117733apdddtEPfvAD9evXT5K0xRZbaMSIETruuONUWVmpLbfcUi+/\n/LKuvfZaDRw4UL1791abNm00ZswYSdLxxx+v+++/Xz179tSPf/xj7bzzzpKkjz76SEOGDFGLFi3U\nqlUr3XPPPZKkQYMGqX///tp666312muvfZufnj176qqrrtJBBx2kTTbZRH379tXo0aNT8jx06FCd\neuqp6tmzp/bdd19tt912OdclWl7v3r21++67a9SoUVnTAQAAAACA5s3iLdI1N23btvWVK1fmlXba\ntGnaZZddGjhHqA32DQAAAIqCWfhsxvdgQE116CANHCjdeWehc4KaMLNV7t62oZfD64cAAAAAAAAo\nOgS1AAAAAAAAUHQIatVAc35Vc2PFPgEAAAAAoHkiqJWn1q1bq6ysjCDKRsTdVVZWptatWxc6KwAA\nAAAAoJHR+mGeunXrptLSUi1cuLDQWUFM69at1a1bt0JnAwAAAAAANDKCWnlq1aqVevToUehsAAAA\nAAAAQLx+CAAAAAAAgCJEUAsAAAAAAABFh6AWAAAAAAAAig5BLQAAAAAAABQdgloAAAAAAABoNGY2\nyswWmNnHsWGdzexlM5uR+OxU3XwIagEAAAAAAKAxjZbUP23Y5ZLGu/tOksYn+nMiqAUAAAAAAIBG\n4+4TJC1OG3yMpDGJ72MkHVvdfFrWc76KSufOnVVSUlLobAAAAABoDm6/PXxyDwLkbcOG/VVaOk8l\nJbMKnRXUTEszey/WP8LdR1QzzVbuPi/x/RtJW1W7kNrmrilYvHixDj744EJnAwAAAEBzcMgh4dO9\nsPkAisgmm0jdum2rgw/ettBZQc1UuPuetZ3Y3d3Mqj1Z8vohAAAAAAAACm2+mX1PkhKfC6qbgKAW\nAAAAAAAACu1ZSWckvp8h6ZnqJiCoBQAAAAAAgEZjZo9IelvSD8ys1MzOlnSrpCPMbIakwxP9OTXr\nOrUAAAAAAADQuNz91CyjDqvJfCipBQAAAAAAgKJDUAsAAAAAAABFh6AWAAAAAAAAik5Bg1pmtq2Z\nvWZmU83sEzO7ODG8s5m9bGYzEp+dEsPNzO42s5lmNsXMdo/N64xE+hlmdka2ZQIAAAAAAKD4Fbqk\nVoWkS9x9V0n9JF1oZrtKulzSeHffSdL4RL8kHSlpp0Q3SNI9UgiCSRoq6ceS9pY0NAqEAQAAAAAA\noOkpaFDL3ee5+6TE9+WSpknaRtIxksYkko2RdGzi+zGS7vfgHUkdzex7kn4q6WV3X+zuSyS9LKl/\nI64KAAAAAAAAGlHLQmcgYmbdJfWVNFHSVu4+LzHqG0lbJb5vI2lObLLSxLBswzMtZ5BCKS9tuumm\n9ZN5AAAAAAAANKpCv34oSTKzzSU9IWmwuy+Lj3N3l+T1tSx3H+Hue7r7ni1bbjQxPQAAAAAAANRA\nwYNaZtZKIaD1kLs/mRg8P/FaoRKfCxLD50raNjZ5t8SwbMMBAAAAAADQBBW69UOTNFLSNHe/Izbq\nWUlRC4ZnSHomNvz0RCuI/SQtTbym+KKkn5hZp0QF8T9JDAMAAAAAAEATVOj37/aT9GtJH5nZ5MSw\nKyXdKulRMztb0peSTkqMGyfpKEkzJa2SdJYkuftiM7tB0ruJdNe7++LGWQUAAAAAAAA0toIGtdz9\nDUmWZfRhGdK7pAuzzGuUpFH1lzsAAAAAAABsrApepxYAAAAAAABQUwS1AAAAAAAAUHQIagEAAAAA\nAKDoENQCAAAAAABA0SGoBQAAAAAAgKJDUAsAAAAAAABFh6AWAAAAAAAAig5BLQAAAAAAABQdgloA\nAAAAAAAoOgS1AAAAAAAAUHQIagEAAAAAAKDoENQCAAAAAABA0SGoBQAAAAAAgKJDUAsAAAAAAABF\nh6AWAAAAAAAAig5BLQAAAAAAABQdgloAAAAAAAAoOgS1AAAAAAAAUHQIagEAAAAAAKDoENQCAAAA\nAABA0SGoBQAAAAAAgKJDUAsAAAAAAABFh6AWAAAAAAAAig5BLQAAAAAAABQdgloAAAAAAAAoOgS1\nAAAAAAAAUHQIagEAAAAAAKDoENQCAAAAAABA0SGoBQAAAAAAgKJDUAsAAAAAAABFh6AWAAAAAAAA\nig5BLQAAAAAAABQdgloAAAAAAAAoOgS1AAAAAAAAUHQIagEAAAAAAKDoENQCAAAAAABA0SGoBQAA\nAAAAgKJDUAsAAAAAAABFh6AWAAAAAAAAig5BLQAAAAAAABQdgloAAAAAAAAoOgS1AAAAAAAAUHQI\nagEAAAAAAKDoENQCAAAAAABA0SGoBQAAAAAAgKJDUAsAAAAAAABFh6AWAAAAAAAAig5BLQAAAABo\naF99VegcAECTQ1ALAAAAABra2rWFzgEANDkEtQAAAAAAAFB0CGoBAAAAAACg6BDUAgAAAAAAQNEh\nqAUAAAAAAICiQ1ALAAAAAAAARafgQS0zG2VmC8zs49iwzmb2spnNSHx2Sgw3M7vbzGaa2RQz2z02\nzRmJ9DPM7IxCrAsAAAAAAAAaR8GDWpJGS+qfNuxySePdfSdJ4xP9knSkpJ0S3SBJ90ghCCZpqKQf\nS9pb0tAoEAYAAAAAAICmp+BBLXefIGlx2uBjJI1JfB8j6djY8Ps9eEdSRzP7nqSfSnrZ3Re7+xJJ\nL6tqoAwAAAAAAABNRMtCZyCLrdx9XuL7N5K2SnzfRtKcWLrSxLBsw6sws0EKpby06aab1mOWAQAA\nAAAA0FgKXlKrOu7ukrwe5zfC3fd09z1bttxYY3oAAAAAAADIZWMNas1PvFaoxOeCxPC5kraNpeuW\nGJZtOAAAAAAAAJqgjTWo9aykqAXDMyQ9Ext+eqIVxH6SliZeU3xR0k/MrFOigvifJIYBAAAAAACg\nCSr4+3dm9oikgyV1NbNShVYMb5X0qJmdLelLSSclko+TdJSkmZJWSTpLktx9sZndIOndRLrr3T29\n8nkAAAAAAAA0EQUParn7qVlGHZYhrUu6MMt8RkkaVY9ZAwAAAAAAwEZqY339EAAAAACaDq+3tq8A\nAAkEtQAAAAAAAFB0CGoBAAAAAACg0ZjZb83sEzP72MweMbPWtZkPQS0AAAAAAAA0CjPbRtL/SdrT\n3XtJ2kTSKbWZF0EtAAAAAABTFEtFAAAgAElEQVQANKaWkjYzs5aS2kj6urYzabY6d+6skpKSQmcD\nAAAAQFO3dq10++3hO/cgQN42bNhfpaXzVFIyq9BZQc20NLP3Yv0j3H2EJLn7XDO7XdJXklZLesnd\nX6rNQsybcSscbdu29ZUrVxY6GwAAAACaus8+k37wg/C9Gd+DATXVoYM0cKB0552FzglqwsxWuXvb\nLOM6SXpC0smSyiU9Julxd3+wpsvh9UMAAAAAAAA0lsMlzXb3he6+XtKTkvatzYwIagEAAAAAAKCx\nfCWpn5m1MTOTdJikabWZEUEtAAAAAAAANAp3nyjpcUmTJH2kEJsaUZt5NeuK4gEAAAAAANC43H2o\npKF1nQ8ltQAAAAAAAFB0CGoBAAAAAACg6BDUAgAAAAAAQNEhqAUAAAAAAICiQ1ALAAAAAAAARYeg\nFgAAAAA0NPdC5wAAmhyCWgAAAAAAACg6BLUAAAAAAABQdAhqAQAAAAAAoOgQ1AIAAAAAAEDRIagF\nAAAAAACAokNQCwAAAAAAAEWHoBYAAAAAAACKDkEtAAAAAGhM7oXOAQA0CQS1AAAAAKAxEdQCgHpB\nUAsAAAAAAABFh6AWAAAAADSmDRsKnQMAaBIIagEAAABAY/ryy0LnAACaBIJaAAAAANCYqFMLAOoF\nQS0AQH4mT5Y+/bTQuQAAAAAASVLLQmcAAFAk+vYNnzxdBgCgbvgvBYB6QUktAAAAAGho8UAWQS0A\nqBcEtQAAAACgMRHUAoB6QVALAAAAABra668XOgcA0OQQ1AIAAACAhlZWlvxOSS0AqBcEtQAAuU2b\nJi1aVOhcAGiOFi4M5yCgKZg5M/mdoBYA1AtaPwQA5LbrrlKXLoXOBYDmaMstwycBADQFL7yQ/M4x\nDQD1gpJaAIDqxV+ZAAAAdbNuXaFzAABNAkEtAAAAAGho8dJZf/xj4fIBAE0IQS0AAAAAaGjxoNa8\neYXLBwA0IQS1AKA5MZP237/QuQAAoPmJB7U+/bRw+QCAJoSgFgA0N2++Wegc1L/Bg6WSkkLnAmj6\nliwJwfG7727c5W7Y0LjLAxpCPKg1f37h8lFXM2ZIzz9f6FwAgCSCWgCApuCuu6RDDil0LoCmb86c\n8HnffY273MrKxl0egOx23lk66qhC5wIAJBHUAnIzky69tNC5AABg4xCVNDFr3OVWF9RavVpavrxx\n8oKN24gR0n77FToXmcVLagEA6gVBLeRv9epwEXvLLYXOSeP6858LnQM0hrIyqby80LkAgI3bxhrU\n2mEHqX37xskLNm7nnSe99Vahc5FZPiUO162TDj9ceu+9hs8PADQBBLWQv2XLwuewYZnHExRAMeva\nVerUqWGXUVkpzZ7dsMtobtaulY44otC5AJqO9etz33hvrEEtWpJDMUgvqTV6tPTYY+EaOvLRR9L4\n8dKgQaF/8mTp1lsbLYtAs1VaGq4rUXQIaiF/0QVstgvLxggK1MYbb0iffFLoXFRv9mypZcvUC5u6\neuMN6Ykn6m9+xebZZ8MTz43FLbdI3/++NH16oXOycfrmm5pXYj95svTKK/Wz/AkTpAUL6mdekCoq\npKOPliZOLHROitvUqeFcLknTpknbb1/1OHWvv4D5pptKJ5+cfXyhglq8toWmIP04Puss6aSTpBNO\nqJom+o317StdcUXj5A9orjZskLbdVjrttELnBLVAUAv5a5E4XIqtstYDDpB69Sp0Lqr3/e+HE2o+\nFy633Sa98EL16Q44IPVCqTEtXy4tWlSYZUuhJbxjjpGuvDL0z54dLhAnTKj7vP/+9/BktaZeey18\nlpbWPQ8bi8WLQwXt9bFO3/uetP/+NZumPm90DzpI2nff+pvfxmzKFOmf/2zYZcyeLY0b1/QvEOfP\nl1atqts8PvoonJ8yBaZ69gznckm64w7pq6+kZ55JTTNqVPgPiYJfkTVrpOeey77clStDK2bpHn88\n+zT1EdSaPl26/vrs4z/+WBo5MnVYsV17FLP168PnKadIv/51YfOSL/cQSN/YZfvPKilJvu2Q729s\n2TLp88/rnqfKyvppXfSTT6Sf/jScd4DGUlEhLV1aP/ORwgNxFB2CWk3BvHmNU1QyCmrVx01kRYU0\nZIi0cGHd55Wvr75qvGXVRT6BoMsuk448svbLWLs23MzU1kcfSTNn5k6zww7SFlvUfhlLltR+2vj0\nUT7Hjw+fY8bUbb6SdP754clqTUU3ZU88UT9/wIVy2WXS4MHh+wMPhIvx227Lnv6uu6Qvv2yYvNR3\n6Y1Zs+p+7BWDH/1IGjiwYZcR3ZDVx03Xxuy735UOPrhu84gCONWVrM12vEel4aZOTR0+eLA0YID0\nv/9lnu5nPwutmNVEdTfc778f5hsFRjI57DBp6NDsJZN3200655zUYfUR1Hr11eI/HufNyx2odA8P\nCEaNqt38H388lNabNk3697+lBx+s3Xwa21lnSa1aFToX1cv1n3X44alpzFK3f/y/qaIiPITZYYdQ\n5+177yWvc2pqxx2lzTevPt3Uqbl/1xdeKL30kvT227XLB1AbZ50ldeyY7F+9OnQ1Ff3HtCA8UozY\na03B1ltL/fs3/HLqs6TW889Lt98uXXBBctiKFeEJT0PVObT99tJNNzXMvLP57DPp6adrNk1jvGLR\nq1d+FzDZ9O4t7bRT7jQ1DVi+/Xbyhq6kROrcOfeFezZm0u9+J22ySeiPnj5Gn9HwbA4/PLwGt2pV\n/Qddozzce690xhn1O++Gkul4vO22EKjKx7x54cb66KNrttzDD5cefjh12IIFVS+WM52PXn9d+sc/\nara8uM6dpX/9K3w3SwbwCu3qq2uflw0bwvmvIYKpZiHQmS567buyMtwg57oZksJ/gJk0fLj0l7/U\nPRBqJp15ZsjHsGGh1Fgma9eGNCtWVD/PwYMzl9J8993wilBt67357LPwOWSI9J//ZE7jnj2glO3/\n+e9/D58vvph5nlHp0UyyPfiYMiWZhw0bqp4jfv1raezY5DplEr0WXpPridqUjk132GEhCFDMtt46\nBCrTt3u0Lyorw3/Yuefmns/MmZmDqFEpvQ8/rFm+xo4Nx0T0v/nPfzbu69z18cCqMeS6xnv//dQ0\nZqnHfefO4by4aFEI4EXn2DZtpL32SgbFamr27OpLV82dG0qNXnxx5vErViSvcXhVGI0pCvxG/ydt\n2oSupmoT1Jo+vWqVImaN/3o+JHdvtl2bNm286FVWRpe5Db+s8vLcy6pJPp55JqT92c+Swx56KAw7\n9dS65zXyxhvJfEVdWZn7xx+7z5iRTFdR4b5sWdXpq1unpUvdb7rJ/cknk/OuyfSvveb++eepaY89\nNvSvW+d+yinuK1cm03/1Vc32ebZ0dT1m8pk+nzRz5oT1SU//xz+G75deWvu8jR0bPo88Mgz/zW/y\nO34l98suq79j/d133Vetcl+4sOqxGDd1qvsuu7gvWpTffGsrWna03auzYUPVfMfzP2xY1fX5+OPk\n/L/4Iozbbrv885b+PdK9e9VhEyZUzVP0/Zlnwm87X5nWr7HOr9Wp7viN27DBfdw49113dZ80KQyL\nzlHnnOP+2GP1t15z5mSf1xNPpG7PCy/MPa9Zs0K6tm3D5w9/WLe8ZTtuTz89c7ott8x/nrmW4578\nvb/xRvXzXL48dfrzzss8/zvvdO/XL3zfcUf3oUOTaaLj469/zTxttm2fa32y5T0aH/0e77gjdXzP\nnmH4lCnZ13nLLUOaefOqz1e2c2Y+67J+ffgvcA/ngnyP++uuc//HP6pPV1np/qc/uS9YkDvd2rXZ\n13XsWPcLLkj2P/poyGN5eeb00TqsX58ctnRpGHbTTe6LF+e3nq1aZU5z/PFheK7zxLp14ZrpP/9J\nnusPPjikHT/e/csvw/d9982dh1wqKsJ65SvKa/w/q76tXh3mO3Jk6vC//CX8f+ejffvs5yYpnLvf\nfjt8//GP3bffPnX8+PHu77+f+385XUVFOHeMG5d5fD7b6+OPQ5poPdOniefhlVfy2xbN3VdfFToH\nRaV9e/fBgzOMMAvH3bp1ob+2v/9ly2o+ba7/ULi7u6SV7g0f16GkVrGrj3fg81UfxTE//TQ8uYsi\n2PEnufmUBNt++/CU0j2UOLj11vB06J57wrC4F17IXD9PeXkoqRQvadS2bWgKfOzYmtXJ8LvfSVdd\nJR13XOiPnmB/801+rxEeckioByUuKtm1++6htEhUCu9//5O22652JVCyvU41bVrm4dOnhwq4I+6h\nbqr4sLqaNi1UyPjnP1cdF9UrUZNKw+fOTS3lFx1jzz8fPmtSOXu8NFevXuGVlT/9qeoxlsuMGdIX\nX4Snp+eemywxkc0tt4Rt0rVr5tI0ZWX5F6devbr29Zml141Vk3Vevz40o96rV/JpbvR7qkmF/dlK\n9HzxRfJ7ZWXY57nyd8wxoVh6NpMmhe3eUK9Gprv22tpXmn7PPdnHXXFFeE0octdd0lFHhVdFrr46\nDItKIa1eLT31VDJtXV9dz1Wydtas1P6//jUcl5dfnvm/q2XLZB6lUF/Mu+9W36rdjBmhXqt83X9/\nOPdMnJjaiEh9liq55prwuf/+oYTcunVhP336aRi+dm1yPdOP97FjM89z7FjpnXfC95kzpeuuS46L\nStesXh32e01ft3/66VCC6dVXk8Oi/REX3xfR73H06OSwOXOSx1qu65PoHFvbkt+/+pX0t79lHnfe\neeEVKCn8vgcMCKX0cr0inW7o0PD6Y/z38cwzVf+TJk0KpRR/9avc8zvzzPBKYKbriwEDwrpEr8pH\npf2qe8U/Pq/o2L3qqlCaJ5MvvwylF558MvxmouPu//2/1HRR6a1cJaUPOSRcM/3sZ9Kjj4bXzkpK\nwrhNNknu17lzM08/bZq02WYhT+PHZy4V+NvfSh06ZC5B5C7dcEPVc4yUWsIsmu8VVyRLFlbHPdQJ\neswxVbdldC119tnSoYeGdF9+GbZhtuupzp1TS21U95961FHJ7TdxYtX/p4ULa3adOnFiOD7eeaf6\n+tHirwOn5zM6H+S7Devq5ZezHz+NqT7W5c03wzEQ35ePPBKu6aPfTXNWWlq37RxNm+vYnDAh+2v4\nEeptLG6NETnbWLsmUVIremqUHhGOnpwtWhRKibi7Dx8e0j33XOiPpvvmm9QnftnEnya7u3/0UXjC\nOHZsaumh22+vWgpk1Cj33/0umebKK5PfKytD9+9/pz7p+fWvk8s691z3p55Kjnv33TBMcu/WLXwO\nGZK6zL/+NXV+Ubfvvsnvffq4T56cOv6GG5LzqC7aftxxqdO+9FLqdFH3wQeZp8/1NDq9//77w/cd\ndkjd1nGjR4fhUWmfKN3BB4f+BQvcd9stdd5Tp6bOI74vo2WvWpXsj5c4Gj68ammqRx9NPumNun79\nqq5z1G22Werwd98NJTSq2/YjR4anuM89l/oEPurOPjt1+1f3JDM+/uSTMx87Tz8dnspH/dHvJjqe\nJ04M/eklL3be2f3mm6vOL+7UU5PD7747ddy8eZmn+fxz97lzw9OlefPCNlmzxr1v35B29erU9K+8\nkpxPVIKpoiKUktywIXmMtWuXPGbXrcu8LaRQ+ufQQ5P9113nfthhyf4VK9zfeSfZf9ddIb9lZe6D\nBiXzNXNmyHeUbtGi5Pf4k/r4NrjmmvD9zjtT85R+/EbHbLqZM5Pju3ategzk2leRqETEzJlVx0XH\nwPDhVfN//vmpadesCce9ezgfv/VW1XNyPC9PPeX+ySfJ5UbDS0tDiY/TT08OO+SQkGannbKv2xVX\nuH/4YTgXvP122G9xFRXuRx1VtRSQeyg1kG0bZVrWKaeEz4cfTn5GSkqy53HixLBvly8Px2rkvvuq\nLv8//0k9hmrS5ZKtlGymeaSXrth889Tx0ffx41OfDseP41zbMT1dtnWJ90fXAtXto6i76aaq6Xv3\nzpy2c+fk/0/U3XtvmKaiIpzfpk9PloiO0rz2mvuSJeF/+KKLqh7T6XlMz7e7+yOPhP/e9DzFS+z8\n3/9Vv58/+SSUFoyfs1q2DPlfvz457IknwnF4xBHuhx8ehrVrl5zP4MHum2wSSistXZo6v/LyMG1U\nQuOTT6rma489wveSksz5jNIuXx76v/oq7KvqjueoBHR16XIdS9deWzVNvLSu5P7666klODOVtopf\nD0bd8OHhf+yJJ1L/szOdv6OSYDvvnNwOmfI9d25qyet//CO19Lt72LfffBO+X3111XnMn58s2b9g\nQeq4Xr1S+599NjnfysrU/Ztr+9Z3N3Jk2C4ffhj6t902Oe7555P5Sz9/nHZa6H/hhdD/5JPh+Cot\nTf5n9ugRtkl8vaIS2VGXfh8QvxeJ+/rr1P+6FSuS1yZSfqVn3cO1ztq1+aWtieg4++c/6zafs85K\nHn/uqaX1bryxZvNatsz95z8P+6S+xY+JxhL9V953X7VJM5bUipcIP+eccHzmOq/lkm8p10zzXbky\n+bZOTefx97/XvWT6RkyNVFKrwRfQmJ2k/pI+lTRT0uXVpW8SQa1MF+4ffVR1WHSzGnXxYuVS8nWH\nO+8MN8rRSW3DhnDTMW+e+4knpv5Qq/tTXbIkeZOfK91pp4XPeBCiuu7008Ori5nGvfOO+z33pP6J\n16Q77TT3Sy5JHRa9DjB6dLhIWb483HjWZL6VlSFQFwUc4t3Eian96dvMPfVEHe86dco8/PXXU/un\nT3ffYouq6e66K1yUbr11KFa+996p40tKqgZp0ruHHgoXJzNmZE9z/fXhxj3TuBUrsk8XXWx+/XXy\n2LzttqrHQ678vfZa1e0Zv8l/8MHaHSvZ9kk8sBN18WBk1B1wQAhwxAMsUggOLVsWArY9erhvumly\n3M03h+BC+s1Qtq5nz/BHXVqaOvzGG8PreUceGfoHDXI/6aTabYfadsOHhwuB6tK9+GLqPvr9793b\ntKnZsu64I3xmu7GLgv7ZuqhY+5o14eJ50qSqaWbNyrxf3JOvw0bdW2+5H3NM+B7dxMa7Sy7J/YpJ\n1D3/fPVp0m/E8umeeCIZFI0PHzYsXIQOGxaCYC++mBy3alUILhx4YNWAf/x4TB928MGpgdvqukMP\nzRzMcQ/niLock717h9fq7rsvNYg1enTy9Ztou194YeqDpaiLbiSzdddem9qf7fyXHuDJ1l16aebh\nRxyR2p/+2tPAgbnne+CBIXj8zTchsJDpFerqupEjq08TD/hJyf9bKdxMxsftsYf7p5/WbR9Hx8qY\nMeG65sMPq14TVdelPxySwrVXpioP4t2tt6YeQ+nj//Of1P5nnw3H4Z57hv54gCyfLvqdRFU+ZOui\n65n0hwRRd8YZye9//nPquPgDGSmca9P/b4YOTb1hzhTUytY9+mj4nzz22HC+KS93/+yzuh8D226b\n+pAz/VX2TPv35z+vfr4rVoT9lR4AvuyycB1T13zXZ5fp+jHbOeeWWzIPjx4wp3dHHhnO6+kPA5Yt\nc7/44tS08fNt+/ap9zaReLBl3rzUqgWkcN52D/9D//xn8uFHZWX4HT31VLjemD7d/fHHw7E+f376\nXVWq554L895999ThX3wRzkPVuf32cF184IFhPlGgP31b/f73ISByww0hAJ/uq69Cun/8w/3MM5O/\nyUyBQvcQ7I1vuyiYHm2PSZNCwDcuCk63aBG2Xfr4mpg3z/1Xv8odIPvJT1K3wYknhuF/+EO4H4l8\n+WW4hvcsQa34uSnTsRzJNCx9HePH3cCBIf/xh2juyXPP+++nzjd6GJ9tWelV3CxbFl7Rj5/Tm6jG\nCmpZWFbxM7NNJH0m6QhJpZLelXSqu0/NNk3btm19ZV1agNsYbLpp9ZXvAgAAAABQhDqoXAM1Snfq\nd4XOSsO76KLQYE4TYGar3L1tQy+nKdWptbekme7+ubuvk/QvSccUOE8Nj4AWAAAAAADFb/jwQueg\n6DSloNY2kubE+ksTw1KY2SAze8/M3quoSUWLG6u2DR74BAAAAAAA2Og0paBWXtx9hLvv6e57tszU\nsk+xueGG2k23665Vh0Ut+EUeeCD79EcfXf0yTj45fB5+eP75qg/HH984yznssJql79Ch9suKt1bW\n2L73Pem++6pPd9ZZoVWz2si1z/bbL7WVq9psx1/+MrV/r71qPo+G9Nvf1nyaAw/MP+2AATWff2Pp\n2rXQOchP//6hxavaePTRmk+T3ipqNlGrdw1ht91y/w/Up1NPrfk0L76Y2n/MMflvt5rq3Dm0VNXY\nqmutqTEcckihc1D/Xn+9btO3bl0/+cjHVVfVftoTTpD++9/sLSI2lHPPzTx8331Dy8518ac/pbb8\nubG58cZC56BuantfUVdjxiS/9+mTOu6ee5KtmUevZF19dWitMX5NaBaqZZFCK5JXXSU9/HBy/JAh\nye+DB4cWiVesCK3vrV8fWiKcPDm0fDpiRNVj9fnnQ4uXTz4ZXg+bNCm0Lhm1rPfEE6Gl8I4dpW7d\nwjS9eqXOI1srmdtvn/xeURFa7ly0KCzzgAMyT9O9e7gGuPfe0Art+vWh1eDI9OlhnW64IazvxImh\nxfHzzw+tjv73v6GFyfT/0hdflLp0Ca0qP/hgSFdeHlpxrKwM+fvoo9Ca46JFoSXcF18M/UuXSkcc\nEeYzblyY/8UXh5Zxp0wJrbquWpV5fU46Kfm9slL6+utkC/Dz54eCHOecm8zD8uWZ5xNZvjy0WBpv\nUXzy5JCnnXeWttgibLdXXgnD0t9+ivbdeeeFFm4/+CC0eh/J1FJ5vNXa228Py7vjjnAcfvWV9Nln\n4Z4uOra22iqZfvXqkCbeAiry1xgVdzVGJ2kfSS/G+q+QdEWuaZpERfHx1n2+/jpZceLUqWHcd74T\nWt1wdzcL6f72t9SKG/v0CZWEuudu+eK//02tzG6bbZL98XFSqCw5Lr3yvhYtkt/nzHEfNy60/pCp\nor/0lnWkUGlgvOL6qPv44+Q6ZKugdqutUvvjlX0feGBoqaeyMrUCa/dQ+Wd6i2TpldU//XTmZUbz\nmDw5zP/zz0NFldG4+H7MVFGne7Ly3I4dk8OjStTLysL+328//7aizW++Sabr2TOk+8MfqubrhRdS\n1ymqkDK9Ys+oP1MF+XHxfRvvouMqqsAy1/pmmvfatcmKq2fNCuOuucb9//2/UNlj+nTHHpv8/s47\noQXG9HluuWXoz7ci7fTGB95/P7WVphNOCPONKheNum22Ca3H5dpuv/xlcvg994Rha9aEdY5XdB9X\nUpKsePjf/05WXBlVWPmXv4RKLSPxStKj/bF6tfvRR4ftm95C2JVXhtbw8tk2UmjwIF5p9cCBqb+3\n998PFQhHlQSPGhXy8O67qRV0xisfj7euGQ37+utQcasUKiCO56GsrGq+br01uT0XLAjfr7suNU2m\nCuu3267q9oqLKv294IJkK6IrV4Z9EVU6HC07Xhn40KFh2Oefh3PWK6+ECoufeSZswxtvDPulsjJU\nkpp+PHXoEI779IpKb7ghebxFw/bYI/fvK+qiSuulqq0fxhuyWL3a/c03ky2SxStXjsvWuETUWMT7\n74fjo1u3ZMtiUSXvLVtmz+eECaHS2/RjIlr+kiVV911NuiefTFao6x5+QwMHVl3esmXJFuwy/a73\n2iv7MtJb3E2vVLt//1DJbqZ1TO9+8Qv3adMyj0v/LVx3XWjp8uSTQ2XD8fFRReTxLrp2iIvOmfl0\nu+8eKmLeccfQf9xxyeMmSvPQQ2F7RK0I3nRT2L/xPKRv2/j0Z54ZWqDLVNF7vBLw9IYL3EOl7Jla\nJ03vRo6s2shJvCXZ+Dzj+/app6qen5YvD8fUHnuExifiLfNJVVtvnTYt+du45Rb32bOT44YNCy0/\nZvvPjW+vtWtDZevZ0kWtOx58cPb5RN+XLk0dd/31qf1DhqQ2qvDAA1WPo2wVxUetWbdqlRw2ZUrq\nuTvaHvHpRozIPL/Fi1OP7fPPD5WIz52bbEDlk0/CeTbbMfDzn4f9VlmZ/bcWPx4j69alXnNFLejl\n+/upSxdvXCa922cf9/feC9fc5eWpDVdEreVGv7vBg8Nn27apjVDFW7h+++3M59vo+jRa55/8JGzD\n554L//dRi6fx8+26deGcEb8mzsfRR4frlfoWNUqR3tJ4TUXXd9FvIdvv9MMPw/VqLitWhGPyiy+y\np3niidA4TU1973vhN1hXy5eHe5xcpkxJvdb7xS/C8M8+C9dCGWSsKD5qoTLX+c89v+MpftxNmJA5\nzTffhIZCPv88db4//WnVc2V1KitTz6eN3fJkIxGtH9Y4qNVS0ueSekjaVNKHknrmmqZJBLXc8//x\nHH10SBcFvjZsqNkPKH4RkSsf8ZvoSNSCxOmnhwuzqDn3qLUL92QQ6te/DjeI8+YlW0+8777UVoXe\nfTc03SolW5h5883UZaa3mhR1223nfvnl4cYhPe/xlkTirVplEzVPH3VvvBGGT5iQGgwYNiz3Not/\n79079O+/f+jfbLPQX1ERWr6LnwDTvfJKaM0makI7SjdrVuhfs6ZqS1nTp2fP1267JYc99ljVGxIp\ntHQUFwUVo/GPP576J718ebhxmTIljD/11NR5Llzo/tvf+rcXQdlEwcf0PEddvAUt99SgUmTKlHAB\nnn4jccEFqf1m7t//fvbmeqMbqqg57/SbyV12ydzkelw8qPXBB9n3SSbxm3z3EFjJ1Ax6PvPp2TNc\n7M6eXXWa9O6LL1Iv2t3DTWq8Px4wrE78j726i5KoGef0gHqm/Fa3zJ13DhfTmabLN++ZzJlT9Rjd\nZ5/azSvX+vzwh6EF2+gCKX7zcdddIc2rr4b+V18N5774/GbODOe72bPDRXVNlJRkz9dFF9VsX0QB\n9XjLlnvuGW4oli6tepy7Vz2PuIf/oDVrsh+3UTdjRthH+ebPPfdxGR933nmpw/71r3CzcNllYfzK\nlaElrFWrqraIdvbZmee/bl3VhzLR8dW6derw8eNTp+3RI7W1sEgUEIk/uIi6K66omn7QoOzbc+ed\nU4PDI0Ykp0tvQapdu2qRINIAACAASURBVJAm0z6N53vt2sz7Z+zY1IBUpv2walXy+8iR7v/7X+79\nvGpVOG7SH+ysXRvGm7n/6EfJ9HfdFW6k47/rDRvCw4H066BevVLnFXfAAan5iloFiwLl2bZNZPHi\n1JvDbMdz/JpowICq6dL/u9PHn3xyON+mb+ubb05tRe+FF0LepezN1EeB+qFDw0PNxYtDMGP58vB7\niF9/xf+L4s45J/X6JUofXT/Et3fUX13A4N13w8My9/B//qc/pT7MjLfSuvfeyd9dFDDMJH1fpF83\nZurSWweMd08+mbyBztTdeGOy5VT3cO6MWtJt2zZ3Hs8/P/RH109//nMyTdSyb7RPo2mi33Y8D5dc\nkns750NKvU4vlPLyugcbopYj4+flLl3C56OP1j2P9SVXwYaGEl2bvPtutUkzBrXck8ddPBie/nuc\nPTsEsXOpaTA1vux4S4k1ncfkyVXvpZoQglq1WRnpKIUWEGdJuqq69M0uqLVqVfKJeG1ETwi32aZu\n+XBPBgGOOy45bPToMOz007NPV1aWvFBeujQECtatqxrQcg8XM5dcUvUPf8qUqmnfe6/qBXz8piib\nefNCc8bRU/nXX08dX93022wTnljG0x5xROj/4ovQn+lpQb7bOlu67343DJ8zJ/u0USmEbPP97ndz\nB0bzyeOLLyYDifH0UQDo8stzTx83ZUrqTUt0URaVnjryyNx5ih8j8SfPtV23Z54JgaWhQ0NAOFNJ\noLgbb/SUi550H3zg/uCDuZeZj5r+2canyZT/6EZp221D/+LFIYj38cehPyqxk36jXl3eMuUzeoof\nN2lS1TxFF/w/+EHmIHvcG2+E/ZTpZi7KR6YmtmsjKqlZG9mOm1yWLMn8+zz55NodB5nEg/fpolIN\nUeDktNNyz2v+/JBu++3DZ+fOdctbtuN2++1T08UDAvnMs2/f3MtxD+e1fv3Cf0R1T8zjpWol96uv\nzjx/96qBwsjZZ4f+O+5IvQmP0l10UeZljx4dfruVleHmLf7Uu6SkavqoRE+822+/8B8claSJSlG+\n/Xb2dW7fPqRZsiTz+Ezngur2T5TmttuSAaEFC8K2iUr5PvRQ5ocG6ebODQ/f4qUWM/3fRQ/bqgtW\nf/NN9uNg9erwICG6Plu0yP0f/8g+r2zb4qGHwkOaaLxZ6vgNG9zvvz95fETp0vdTNHyffbIva+HC\nEPCJjpPFi5MlhF96KQSbpBDozCbbvo889lgocZQpGJtJlNf4uXzdujDuyy/DA5i63rBHpQijEk1f\nfJH9Pzs9X5HTTst+boryHz2Y6Nmz6vi5c1NLwuW6rohEAd54SbJMeVy2LPRXVoaSjPFtH12T/vSn\nmdcrnofXXsu9TfIxf364Dm8KNmyoen8Q7WfkrdqgVmlpuJ+r7fVNXYJa1Q1rxghqNULX7IJadRX9\noUU3r3XJx5NPhrTHHJMcFr3icu+9dc9rpnxFFwP5ij8hrs7nn7v/5jdVL75qsk2itNlKddVmvtnS\nLV8eLpxrK3qincvLL7uPGZP/PKPXA93D61tS6pP+fEkhWBoFtY4/PgyvSVAreqpWXdra5C3qWrdO\nHVdRUfWipyHUJu/pF80XXhhevXUPN0jXXVf1lbW4uXOTNxf55i1TPufPrxrATn8tyD1cLOZ7I5Rp\n+VL9BbLqSzzYUFf3319/86qsDK/nZSpVEgW1dt45/6fdY8aE0mL/v717D7PsrOtE//1VX9Kd6lu6\nc6cbaEmA4eIFAoIyGoGBwKBhZnBOfEaBwZGDAnJGZxgic0BUVBSHwdFhTuQizMETHBgkx4lyUTLz\nHCSQACEmBKSTAOk2kEsnqU6HJHT3e/5Ye1O7K3Xvuu2qz+d51rP3fvdea79VWald9e3f+1tJa6ee\nemJzm+0ffK114ewnPjHzMW+7rQuoJ3ufCy+c38+swSqpiy9+aDXP4Nz7odbv/d74H6Ctdf+4knTh\nyGT7vvrVs59Pf5+vfGXy5/uV1o98ZLeE+FvfOv75/pK7/vKMyWzf3r3m4MHp5zB4f2IYOd0+S6Vf\n6fdbv7V07znT19kPdX7oh6Y/zhve0FVFTnX8mT4zWzs+mPqjP+pe+/Wvjy/bOuec6eewkCY7Z2bz\nuTNXf/3XMwdygz73uS7o65sp1GptfBnrE5/Y2rnnjj/X/9kwWI3b37ZunXLZVmtt+s/h2f6/86EP\njf8/O3Gfm24aX+o5m5+lMEdThlr99gl9Qq0VZalCrVXQKZ0kJ9ZIdLZGetcVWIjmdevWdbdHj46P\nPfWpXbPBxWrGe/31ydlnz/71I3O4jsLevcc3M+/78IeTv/zL2R3jR36kazb5fd83+/edry1bum2+\nNm+e+TVzvUDApz7VfQwkyU/+ZNc8cS7N0PvGxrr5/dmfHT/+3Od2DTdnOuZLX9o1AH3KU5Krrpr8\nNe9/f9cIdL6e/vTuv/WgdevGG6GudIOXGl6/PnnDG6Z//Vz+v+s7//yHNhs+/fRuGzT4M6Svavxn\nzHz86q8m/+bfzH//xbCQPxcX8iIpVcm73jX1c32zvcDDi1/cNYRN5vYzeDL79nWNhA8cSPbseei5\nM+ilL53dMU87bernJv7Mma2tW7uGvo94xMwNyPtXbd60qduvb6bP5/7P1tl45jOTJz+5a6Q7mac+\ntbut6i4QMtEb3pC87GXTn7P9c2Mu8/rKV2b/2qWye3fXiPhELgQzV6efntx229TPV3UNrGe6aMKb\n3jR5w/Vf+qWusfFrXtP9HJ7u/8PBz8Gf/dnu/6P165P77+++J7/zO9PPYSE9/enJpz99/Njgz6CF\nMtcLJ8ylMf5NN3W3/f8vNm/uvqb+72v9z7XJ/r+5885kw4apjz2fz+GJJl5QatDevckv/3J30Y9/\n8A9O/L1gtj7wgeTgwfHHr31t8uCDcz9O//+rufzc+NCHHvr/41w+11gwQq3VYKn+55nPL6FT6f9S\n/PM/f/z44NU/Fspf/mX3C8FkV3yczkL8MvTCF3bbbPR/aelfuWWtGfzFuSr50R+d33EG/9Ab1A/i\npvpDre897+lun/Wsqa9wOfFqirP1tKclV17ZfeAu19VXH/3olXf1x8l88pOze91iXCHmjW9c+GOu\nJFNdSWml6Ac7J3rVvUc9qtuWwmx/zk/lMY+Z3eue+MTuduLPsbPO6m4nhitvelN3Pv/iL85+Ln/1\nV9M/P9Mv/iMjM4ewf/AHyatfnWzbNvnzP/3T3VW3Bp100vTHXC4n8g8c83HgQHdltOn8wA/M//i/\n/dtdmPXc53bbbFWNf65t2tRdLW0pfexjyTe/ubTvuZD+4T/sgqGk+8fNX/mV7qpro6Pjr+mHWhP/\nP3/KU6YPtGbyqU/NLwSY6KKLug2W0kknjX8GJslb3jK/4/Q/057+9NnvM13Qy5ISajF7/dBhIUKt\nM89cujBuLr+UDVqMf+Gbznvek7zznbP7YXrJJck55yz+nIZZ/18K+5cW7lvq/66DPvzh7hK/P/7j\nyzeHlVjtcCImq9Sarx/6oYcG7SvJxz62MH947N7dfd8W8nu3kLZvT770pfE/8Fa673znxKvKZuvn\nf747Tyde8v5XfqX7R6GJf1C+4Q0zV1LO1Xz+NXuif/Evum0q731v8u53z+2Y+/bNfIn31WD9+sWt\nDNuwYXk/o+Zry5aH/l50IhW7i2XfvsnHP/zh8ftVyZvffPzjwd+ZH/7w5G/+pqvGu/HGh/48mKsf\n+qET2x9Wg5GR5Oqr/X01pGYValXl0UnekeSM1vKEqnxvkp9oLb+xqLNjZen/6/ljHzvza1aDpQ4/\nTj+9+8NkNiYuy5rKO94x9S9Qq93jH5/cfnuya1f3+MILk1/7teRf/+vlm9OZZ3ahFpM766zk1lvn\nts/JJy/c+3/qUwt3rMUwMaA9ESMjSxfEzMcwLV9ZyqrLqsn/gN2wYfZLKE/UQoRaM5nP+blUVXkM\nj+X8R6ypXHnlQ8fe+Mbx31Um84UvJJdffvxY/x9Azzhj4eYGa92Tn7zcM2CeZvub2B8l+bdJ/q8k\naS3XVuVPEqHWmrJzZ/LRj069dOnee1fmLxDztRq+lle8YrlnsLxOPXX8/hlnJPv3T/3aT3xidYWy\nw+iLX0z+/u/nts+TnpT81/+a/MzPJE94wuLMi/nZs6cLWwYrDhh+SxFqwVpx223T9+pLuuWIS9Fv\nFWBIzTbUOrm1fHbC7y9HFn46rHjPec7Uzw2u+4dhM1X/LJbOaafN/Mv9ZH76p7sK0pkaI7O0Tj55\nYZZLsrIItVjpvvzlrrppJXrRi5IPfnD88Xw+8wA4zmxDrTuq8qgkLUmq8qIkc1wjAkNquiAPWBnO\nO2+5ZwCL44orVlYDbKEWK91jHjP7iy8stcGG1gAsiNmGWq9MckmSx1blQJKbk0zT4RNWia9/3b+i\nAbB85nsl2MUi1IL5W8m9DAGG1IyhVlVGkpzXWp5dldEkI61lDVxeBjLzZckBYC0RasH8CbUAFtyM\nP1lby7Ekr+3dPyzQAgBYo/oX1Dj77OWdBwyjdeuWewYLY7oroQMssdkuP/xEVf5Nkg8kOdwfbC0H\nF2VWAACsPI96VPLe9ybPf/5yzwSGz2qp1PrsZ5O7717uWQAkmX2o9b/1bl85MNaSuNQUAMBa8uIX\nL/cMYDitllBr69ZuA1gBZhVqtZa9iz0RAACAVWu1LD8EWEFmFWpVZdJ/kmst71vY6QAAAKxCq6VS\nC2AFme3yw6cM3N+U5FlJPp8ItQAAAGY0GGo95znLNw+AVWS2yw9fPfi4KjuSXLooMwIAAFhtBpcf\nvulNyzcPgFVkvjWwhxN9tgDWjB/90eWeAQAMt8FKrZNOWr55AKwis+2p9f+mu9ph0gVhj0vyp4s1\nKQBWkHvuSTZt8gs4AJyIM89c7hkArDqz7an11oH7R5J8vbXsX4T5ALDSbNu23DMAgOG3Z89yzwBg\n1ZltT63/udgTAQAAWLUe/vDx+1XLNw+AVWTaUKsqhzK+7PC4p5K01uKf7wEAAGZyxhnLPQOAVWfa\nUKu1bF2qiQAAAADAbM1UqbWttYxVZedkz7eWg4szLQAAAACY2kw9tf4kyQuSfC7dMsTBxd8tyfcs\n0rwAAABWJz21ABbETMsPX9C73bs00wFgxfrN33Q5cgAA4IRV1Y4k70zyhHRFUy9rrX16rseZ1dUP\nuzfMKUnOTbKpP9Za/tdc3xCAIXXxxcs9AwAAYHV4e5K/bK29qKo2Jjl5PgeZVahVlX+V5DVJdie5\nJsnTknw6yTPn86YAAABrluWHwBpWVduT/EiSlyZJa+3BJA/O51izrdR6TZKnJLmytfxYVR6b5Dfn\n84Yryc6dO3PFFVcs9zQAAJjMW9/a3fp9jdXg6NHxc/rAgeSga27BbBw9+ozs339rrrjixuWeCnOz\nvqquHnh8SWvtkt79vUluT/Keqvq+dH3cX9NaOzzXN6nW2swvqlzVWp5SlWuS/GBreaAq17eWx8/1\nDVeS0dHRdvjwnL9nAAAshX41yyx+X4UV7667kp29i8pfe23yxCcu73xgSGzfnrzsZcnb3rbcM2Eu\nquq+1troFM+dl+TKJD/cWvtMVb09yVhr7f+c6/uMzPJ1+6uyI8mfJfl4VT6S5OtzfTMAAIA1z/JD\nYG3bn2R/a+0zvccfTPKk+Rxo2uWHVdnbWm5uLf+kN/SrVflkku1J/nI+bwgAALCmPX6oF7wAnJDW\n2jer6paqekxr7StJnpXkS/M51kyVWh9Mkqr81fib53+2lstam18TLwAAmJXnPne5ZwCLQ6UWwKuT\nvL+qrk3y/Zln3/aZGsWPVOVXkjy6Kr808cnW8h/m86YAADCjyy/vmmsDAKtKa+2aJOed6HFmqtS6\nKMnRdOHX1kk2AABYHCMjyYYNyz0LWBgueACw4Kat1GotX0nylqpc21r+YqrXVeUlreW9Cz47AAAA\nAJjErK5+OF2g1fOaBZgLAAAAAMzKrEKtWdDpEAAAAIAls1ChlgXiAAAAU9FTC2DBqdQCAAAAYOgs\nVKj1qQU6DgAAAADMaFahVlW2V+VtVbm6t/1eVbb3n28tr1q8KQIAAAw5yw8BFtxsK7XenWQsyT/v\nbWNJ3rNYkwIAAACA6ayf5ese1Vr+2cDjN1XlmsWYEAAAAADMZLaVWt+uyjP6D6ryw0m+vThTAgAA\nAIDpzbZS6xVJ3jfQR+uuJC9ZnCkBAACsMnpqASy42YZaY63l+6qyLUlay1hV9i7ivAAAAABgSrNd\nfvihpAuzWstYb+yDizMlAAAAAJjetJVaVXlskscn2V6Vfzrw1LYkmxZzYgAAAKuG5YcAC26m5YeP\nSfKCJDuS/PjA+KEkP7dYkwIAAACA6UwbarWWjyT5SFWe3lo+PdXrqnJxa/mtBZ8dAAAAAExiVj21\npgu0en5yAeYCAAAAALMy20bxM6kFOg4AAMDqo6cWwIJbqFDLT2gAAAAAloxKLQAAAACGzkKFWv9t\nrjtU1U9W1fVVdayqzpvw3MVVta+qvlJVzx0Yv6A3tq+qXjcwvreqPtMb/0BVbTyxLwcAAGABWX4I\nsOBmFWpV5dFV+auqXNd7/L1V+ff951vLb87jva9L8k+T/K/j36sel+SiJI9PckGS/1xV66pqXZI/\nTPK8JI9L8lO91ybJW5K8rbV2TpK7kvzsPOYDAAAAwJCYbaXWHyW5OMl3kqS1XJsueJq31toNrbWv\nTPLUhUkuba090Fq7Ocm+JE/tbftaaze11h5McmmSC6uqkjwzyQd7+783yQtPZG4AAAAArGyzDbVO\nbi2fnTB2ZKEn0/OwJLcMPN7fG5tqfFeSu1trRyaMT6qqXl5VV1fV1UeOLNaXAAAAAMBiWj/L191R\nlUeld5XDqrwoya0z7VRVn0hy5iRPvb619pFZz3IBtdYuSXJJkoyOjlrYDgAALD49tQAW3GxDrVem\nC4IeW5UDSW5O8tMz7dRae/Y85nQgyZ6Bx7t7Y5li/M4kO6pqfa9aa/D1AAAAAKxCs1p+2Fpuai3P\nTnJakse2lme0lq8t0pwuS3JRVZ1UVXuTnJvks0muSnJu70qHG9P19LqstdaSfDLJi3r7vyTJslSB\nAQAAALA0ZlWpVZUdSV6c5JFJ1ld1463lF+f7xlX1T5L8p3RB2f+oqmtaa89trV1fVX+a5Evp+na9\nsrV2tLfPq5J8NMm6JO9urV3fO9y/S3JpVf1Gki8kedd85wUAALDgLD8EWHCzXX54eZIrk/xtkmML\n8cattQ8n+fAUz705yZsnGb+8N5eJ4zeluzoiAAAAAGvAbEOtTa3llxZ1JgAAAAAwS7PqqZXkv1bl\n56pyVlV29rdFnRkAAMBqYfkhwIKbbaXWg0l+N8nrk/R/Grck37MYkwIAAACA6cw21PrlJOe0ljsW\nczIAAAAAMBuzXX64L8l9izkRAAAAAJit2VZqHU5yTVU+meSB/mBr+cVFmRUAAMBqoqcWwIKbbaj1\nZ70NAAAAAJbdrEKt1vLexZ4IAAAAAMzWtKFWVf60tfzzqvxtxq962Nday/ct3tQAAABWCcsPARbc\nTJVar+nd3pDk3w6MV5LfWZQZAQAAAMAMpg21WsutvbvntJavDz5Xlccu2qwAAAAAYBozLT/8+SS/\nkOR7qnLtwFNbk3xqMScGAAAAAFOZafnhnyT5iyS/leR1A+OHWsvBRZsVAADAaqKnFsCCm2n54T1J\n7knyU0szHQAAAACY2chyTwAAAAAA5kqoBQAAsNgsPwRYcEItAAAAAIaOUAsAAACAoSPUAgAAAGDo\nCLUAAAAWm55aAAtOqAUAAADA0BFqAQAAADB0hFoAAACLzfJDgAUn1AIAAABg6Ai1AAAAABg6Qi0A\nAAAAho5QCwAAYLHt2bPcMwBYdYRaAAAAi239+uWeAcCqI9QCAAAAYOgItQAAAAAYOkItAAAAAIaO\nUAsAAACAoSPUAgAAAGDoCLUAAAAAGDpCLQAAAACGjlALAAAAgKEj1AIAAABg6Ai1AAAAABg6Qi0A\nAAAAho5QCwAAAIChI9QCAAAAYOgItQAAAAAYOkItAAAAAIaOUAsAAACAoSPUAgAAAGDoCLUAAAAA\nGDpCLQAAAACGjlALAAAAgCVVVeuq6gtV9efzPYZQCwAAAICl9pokN5zIAYRaAAAAACyZqtqd5B8n\neeeJHGf9wkxnOO3cuTNXXHHFck8DAABYC9761u7W3yAwa0ePPiP799+aK664cbmnwtysr6qrBx5f\n0lq7ZODxf0zy2iRbT+hNTmTnYXfw4MGcf/75yz0NAABgLfixH+tuW1veecAQWbcu2b17T84/f89y\nT4W5OdJaO2+yJ6rqBUlua619rqrOP5E3sfwQAAAAgKXyw0l+oqq+luTSJM+sqv97PgcSagEAAACw\nJFprF7fWdrfWHpnkoiR/3Vr76fkca9lCrar63ar6clVdW1UfrqodA89dXFX7quorVfXcgfELemP7\nqup1A+N7q+ozvfEPVNXGpf56AAAAAFg6y1mp9fEkT2itfW+Sv0tycZJU1ePSJXWPT3JBkv9cVeuq\nal2SP0zyvCSPS/JTvdcmyVuSvK21dk6Su5L87JJ+JQAAAADMSWvtitbaC+a7/7KFWq21j7XWjvQe\nXplkd+/+hUkuba090Fq7Ocm+JE/tbftaaze11h5Mt+7ywqqqJM9M8sHe/u9N8sKl+joAAAAAWHor\npafWy5L8Re/+w5LcMvDc/t7YVOO7ktw9EJD1xydVVS+vqqur6uojR45M9TIAAAAAVrD1i3nwqvpE\nkjMneer1rbWP9F7z+iRHkrx/MefS11q7JMklSTI6OupaugAAAABDaFFDrdbas6d7vqpemuQFSZ7V\nWusHTAeS7Bl42e7eWKYYvzPJjqpa36vWGnw9AAAAAKvQcl798IIkr03yE621+waeuizJRVV1UlXt\nTXJuks8muSrJub0rHW5M10z+sl4Y9skkL+rt/5IkH1mqrwMAAACApbeolVoz+IMkJyX5eNfrPVe2\n1l7RWru+qv40yZfSLUt8ZWvtaJJU1auSfDTJuiTvbq1d3zvWv0tyaVX9RpIvJHnX0n4pAAAAACyl\nZQu1WmvnTPPcm5O8eZLxy5NcPsn4TemujggAAADAGrBSrn4IAAAAALMm1AIAAABg6Ai1AAAAABg6\nQi0AAAAAho5QCwAAAIChI9QCAAAAYOgItQAAAAAYOkItAAAAAIaOUAsAAACAoSPUAgAAAGDoCLUA\nAAAAGDpCLQAAAACGjlALAAAAgKEj1AIAAABg6Ai1AAAAABg6Qi0AAAAAho5QCwAAAIChI9QCAAAA\nYOgItQAAAAAYOkItAAAAAIaOUAsAAACAoSPUAgAAAGDoCLUAAAAAGDpCLQAAAACGjlALAAAAgKEj\n1AIAAABg6Ai1AAAAABg6Qi0AAAAAho5QCwAAAIChI9QCAAAAYOgItQAAAAAYOkItAAAAAIaOUAsA\nAACAoSPUAgAAAGDoCLUAAAAAGDpCLQAAAACGjlALAAAAgKEj1AIAAABg6Ai1AAAAABg6Qi0AAAAA\nho5QCwAAAIChI9QCAAAAYOgItQAAAAAYOkItAAAAAIaOUAsAAACAoSPUAgAAAGDoCLUAAAAAGDpC\nLQAAAACGjlALAAAAgKEj1AIAAABg6Ai1AAAAABg6Qi0AAAAAho5QCwAAAIChs2yhVlX9elVdW1XX\nVNXHqurs3nhV1e9X1b7e808a2OclVfXV3vaSgfEnV9Xf9vb5/aqq5fiaAAAAAFgay1mp9butte9t\nrX1/kj9P8obe+POSnNvbXp7kHUlSVTuTvDHJDyZ5apI3VtUpvX3ekeTnBva7YKm+CAAAAACW3rKF\nWq21sYGHo0la7/6FSd7XOlcm2VFVZyV5bpKPt9YOttbuSvLxJBf0ntvWWruytdaSvC/JC5fuKwEA\nAABgqa1fzjevqjcneXGSe5L8WG/4YUluGXjZ/t7YdOP7Jxmf6j1fnq4CLBs3bjyxLwAAAACAZbGo\nlVpV9Ymqum6S7cIkaa29vrW2J8n7k7xqMefS11q7pLV2XmvtvPXrlzXTAwAAAGCeFjXVaa09e5Yv\nfX+Sy9P1zDqQZM/Ac7t7YweSnD9h/Ire+O5JXg8AAADAKrWcVz88d+DhhUm+3Lt/WZIX966C+LQk\n97TWbk3y0STPqapTeg3in5Pko73nxqrqab2rHr44yUeW7isBAAAAYKkt5/q7366qxyQ5luTrSV7R\nG788yfOT7EtyX5J/mSSttYNV9etJruq97tdaawd7938hyR8n2ZzkL3obAAAAAKvUsoVarbV/NsV4\nS/LKKZ57d5J3TzJ+dZInLOgEAQAAAFixlm35IQAAAADMl1ALAAAAgKEj1AIAAABg6Ai1AAAAABg6\nQi0AAAAAho5QCwAAAIChI9QCAAAAYOgItQAAAABYElW1p6o+WVVfqqrrq+o18z3W+oWcGAAAAABM\n40iSX26tfb6qtib5XFV9vLX2pbkeSKUWAAAAAEuitXZra+3zvfuHktyQ5GHzOdaartTauXNnrrji\niuWeBgAAsBa89a3drb9BYNaOHn1G9u+/NVdcceNyT4W5WV9VVw88vqS1dsnEF1XVI5P8QJLPzOdN\nqrU2r9mtBqOjo+3w4cPLPQ0AAGAtqOpu1/DfYDBX27cnL3tZ8ra3LfdMmIuquq+1NjrDa7Yk+Z9J\n3txa++/zeR/LDwEAAABYMlW1IcmHkrx/voFWItQCAAAAYIlUVSV5V5IbWmv/4USOJdQCAAAAYKn8\ncJKfSfLMqrqmtz1/Pgda043iAQAAAFg6rbX/L0ktxLFUagEAAAAwdIRaAAAAAAwdoRYAAAAAQ0eo\nBQAAAMDQEWoBAAAAMHSEWgAAAAAMHaEWAAAAAENHqAUAAADA0BFqAQAAADB0hFoAAAAADB2hFgAA\nAABDR6gFAAAAwNARagEAAAAwdIRaAAAAAAwdoRYAAAAAQ0eoBQAAAMDQWb/cE+DE/M3fJB/5SDI6\nmuzYkezcmWzf9NtoiwAAG1pJREFUnuzalWzblpx6and78snLPVMAAACAhSPUGnLXXpu8/e3JAw9M\n/7pNm8ZDrq1bk9NOO/62H37t2jUeivVDspNPTqqW5usBAAAAmA2h1pB7xSu67ciR5ODB5J57utu7\n7x6/veuu47e770727+9ee+edyaFDSWtTv8f69ckpp3TbxGqwiVVhgwHZqad2FWTr1i3d9wMAAABY\nG4Raq8T69cnpp3fbXB071gVghw4lt9+e3Htvd9t/fOhQcscd448PHky++tUuFLvrruTo0emPv2vX\nQ8OuwaqwnTvHw7J+eHbKKd0+GzbM7/sBAAAArG5CLTIy0gVNp56a7N07t32PHetCsMmqwfqVY3fe\nOX47NpZ8/vPjwdl0gVhVF35N1iNssCqsv4xyy5Yu1NuypXu83tkNAAAAq5Y/+zkhIyNdyLRtW/KI\nR8xt39aS+++fuirsjju6EKwfih08mHz5y+PLKr/97emPv2nT8T3DBqvCBivC+sspByvGTjpJHzEA\nAABYyYRaLJuqZPPm5OEPn9/+998/eVXY2Nh4MHbbbeNVYd/4RvK5z3WPx8amP/bGjVNXhc3UbH/L\nli7sAwAAABaPUIuhtWlTctZZ3TZXDzxwfO+wwSWSkzXb/+Y3kxtu6O7ffff0x964sQu5BnuGTVYV\nNlmz/R07VIgBAADAbAi1WJNOOqnbdu2a+75Hj44vixysCus32b/ttoc23b/ppvEAbbo+YiMjs6sG\nm9hsv3/rSpMAAACsFUItmKN168Yrr+aqtS4IG+wVNrE6bLDh/sGDyS23jAdoDzww/fH71V6DPcNO\nOaUbG2y2PzEg27q1q3wDAACAYSHUgiVU1VVUbd+e7Nkzt31b6yq/JlaFDS6jHFxOOTbWNdbvB2j3\n3z/98bdsmV1V2GTN9jdvnv/3BAAAAOZDqAVDoqoLm7ZuTc4+e+77P/jgQ3uF9SvCBsf6gdi+feNB\n2UxXmjzppPErR05VFTbZcsrTTusCMX3EAAAAmCuhFqwRGzcmZ57ZbXN19OjxvcMOHRp/fMcd473F\n+lVhf//3yXXXdSHZ2Fhy7NjUxx4ZmbpH2MSqsMHgbOfOrrpMHzEAAIC1SagFzGjduuSMM7rtnHPm\ntu+RI134NbEq7J57xoOwweWTd9+dfPWr48soW5v62CMjXcC1bdvxyyanqgobXFZ5yikCMQAAgGEm\n1AIW1fr182+sf+xYcvjwQ6vCpmuy/8Uvji+jPHJk6mNXdZVeM1WFTawc6wdo6/30BAAAWFb+LANW\nrJGR8T5i83HffeNVYf0AbLAqbLDJ/h13dBVi/cf33Tf9sTdtmr4arP94sib7mzbpIwYAAHCihFrA\nqnXyyd22e/fc9/32t4+vCuuHYwcPji+lHFxOecstyTXXdPuMjU1/7MHG+hOrwgarwwaXVfZvt22b\n3/cCAABgtRFqAUxi8+ZuO+OMue/74IPHN9WfeDtxOeWBA8kNN4xfeXI6GzZ04dbpp3fLJyerEhsM\nxwaXVW7frkIMAABYPYRaAAts48au0mrXrrnve+xYV/01sVdYfxtcTjk2ltx2W3Ljjd3toUPdlSqn\nUjUecPWrw7ZtG2+eP1OTfX3EAACAlcSfKAAryMhIFzbt3Jns3Tu3fVvrQrB77z3+ypITe4cNhmLf\n+Eb3+K67ugqz6ezYcfwVJPu3/WqwqZrtb9vW9REDAABYSEItgFWiajxQ2rNnbvu21vURm9grrH8l\nybGx8WWT/YDs+uvHg7IHHpj++KOjx1eD9QOx6Zrt919/0knz/54AAACrl1ALgFSNN9Z/2MPmvv+D\nDz409OpXiw022++HZV/72niAdu+90x+7v5xzYo+wwW2w2X6/yf6pp3Z90UZG5vUtAQAAVrhlD7Wq\n6peTvDXJaa21O6qqkrw9yfOT3Jfkpa21z/de+5Ik/76362+01t7bG39ykj9OsjnJ5Ule01prS/qF\nAKxhGzcmZ5/d3X/MY+a273e+M95HrB+ADQZkg8snb789+da3kuuu6x7ffXdXZTaVkZHjQ65+Ndhg\nldjE5ZT9AG3r1mTduvl/TwAAgMW1rKFWVe1J8pwk3xgYfl6Sc3vbDyZ5R5IfrKqdSd6Y5LwkLcnn\nquqy1tpdvdf8XJLPpAu1LkjyF0v1dQAwfxs2dAHTaacl55wzt32/853k8OHpq8IGm+3ffXdy883j\nAdp0gdi6dV3INbEibLAqbGKT/cFbFWIAALC4lrtS621JXpvkIwNjFyZ5X6/S6sqq2lFVZyU5P8nH\nW2sHk6SqPp7kgqq6Ism21tqVvfH3JXlhhFoAq96GDeNB01y11gVig1VgE6vCBpdR3nFHcuDAeLP9\nmRrrj46OV4OdfvrxVWETl1NOXFa5YcP8vh8AALCWLFuoVVUXJjnQWvtit+Lwux6W5JaBx/t7Y9ON\n759kfKr3fXmSlyfJxo0bT+ArAGCYVSVbtnTbfBw+PHk12MRm+/2qsG99K/n0p7ug7L77pj/2ySdP\n3StscNnkZE32Tz65+9oAAGC1W9RQq6o+keTMSZ56fZJfSbf0cEm11i5JckmSjI6O6rsFwLyMjnbb\nfBrrf/vbx1eDTdZcv18dNjaWfP3ryRe/2IVkhw9Pf+zNm4/vHdYPw3btOr4arH9/sFJs69b5fS8A\nAGA5LGqo1Vp79mTjVfXEJHuT9Ku0dif5fFU9NcmBJIMXo9/dGzuQbgni4PgVvfHdk7weAFakzZu7\n7fTT577vkSMPrQabWBU2Nja+nPKWW8YDs0OHpu8jtn79Q68gOVk12GTVYlu26CMGAMDSWpblh621\nv03y3V/lq+prSc7rXf3wsiSvqqpL0zWKv6e1dmtVfTTJb1bVKb3dnpPk4tbawaoaq6qnpWsU/+Ik\n/2kpvx4AWCrr14831p+r1rrwazDkuv3246vC+s3277yzG/vqV7sAbWysC9SmM7hUcrBn2GB12MTl\nlKee2gViOgIAADBXy90ofjKXJ3l+kn1J7kvyL5OkF179epKreq/7tX7T+CS/kOSPk2xO1yBek3gA\nmKCqC5N27Uoe+ci57XvsWBeCDVaDDTbRn6zJ/jXXjAdoMwVi27dPXgV2+uld6DU4PjE401gfAGBt\nqjbdOoRVbnR0tB2eqTkJAHBCWkseeOD43mH9cOyeeyZvtj+4nPKBB6Y//sknz74qbOKyyo0bNdYH\nllD/B84a/hsM5mr79uRlL0ve9rblnglzUVX3tdZGF/t9VmKlFgCwilQlmzYle/bM/NrJPPjg8csl\nJ6sKGxz/xjeSz3++qyIbG5v+2Bs2PLR32GD41W+yP7E67JRTujBNHzEAgOUj1AIAVrSNG5Ozz+7u\nP+Yxc9v3wQeP7xU2sSpssNn+nXcmt92W3HBDt89dd01/7A0buoqwqarCJgZkg8HZKaeoEAMAOFFC\nLQBg1dq4sQuUTj117vsePTpzVVh/OWU/OLv55u727ru7PmRTGRmZviqsH5L1q8JOOeX4MRViAABC\nLQCASa1b14VI27fPfd/WusBrsE9Yvypsqmb7+/ePB2Uz9RHbunX2VWETl1XqIwYArBZCLQCABVbV\nBUjbtiWPeMTc97/33uOrwwbDr8mWU371q8lnP9uFZ/ffP/2xR0cf2iNsYlXYxGb7/UDs5JPn9/0A\nAFgMQi0AgBVmy5ZuO+usue3Xv9LkTFVhg4HZTTeNP77vvumPv3nzeNXXdNVgky2nHB1VIQYALCyh\nFgDAKtG/0uSZZ3bbXB092oVg/eqwfig2WZP9u+7qlkz2A7RDh7pQbSojI124tWPH8RVh/bGJzfYH\ng7LR0W45KADAIKEWAABJuuDo9NO77VGPmtu+R4924dfY2EOb60+sDrv99u61+/Z1jw8e7Pafzq5d\nk1eJTawOGwzJduzogrING+b/PQEAVi6hFgAAJ2zdui5I2rkzeeQj57bvsWPd0sf+lSMnVoXdfffx\nFWP33JNcc814gDZTILZ1axdw9ZdDDt5O1lx/8PF6vy0DwIrlYxoAgGU1MjLeR2yujfVb65rj3357\n12B/piqxO+5I/u7vxkOymfqIbdr00KqwwV5hE5dTDjbZ37RJHzEAWExCLQAAhlZV18D+4Q+f3/73\n3398VdhgH7HB235V2P79yRe+0AVkY2PTH3vjxuOrwWaqChsMzrZuFYgBwEyEWgAArFkn0lj/gQeO\nrw7rV4UNXmlybGw8HPvmN5Mvf3l8SeV0Nm7sKtcGq8OmqwobXFa5Y4dADIC1QagFAADzcNJJ3bZr\n19z3PXasC7z6/cP6vcL6VWG33fbQ5ZQ33zw+fuTI1MceGZm+GmyyJvuDj/URA2BY+MgCAIAlNjLS\nVVTt2DH3fVvrgq/JqsEGG+oPLqu85Zbx4OyBB6Y//rZt4z3DBqvBJlaFTbasctOm+X0/AGA+hFoA\nADBEqrpgafv2ZM+eue3bWtccf2KvsHvvHa8Cm1gl9uUvjy+rnCkQ27Jl6qqwyZrtDzbd37x5/t8T\nANYmoRYAAKwRVcnoaLedffbc93/wwamrwvrLKAeXU95443hF2eHD0x9748auMmxij7CJVWH9x4OB\n2ckn6yMGsBYJtQAAgFnZuDE566xum6ujR7sg7NChyXuGTWyyf+utyXXXdeHY2FjXh2wqIyMPDb0m\nVoUNLqEcbLq/ZYs+YgDDyo9vAABg0a1bl5x+erc96lFz2/fIkS706l85st8rbLA6rL+csh+M3Xjj\neHDW2tTHHhkZX845VfP8ieP9KrGdO7uvC4DlIdQCAABWtPXrxyur5urYsa6P2GBV2GCV2B13PHQ5\n5YED4+HZgw9Of/wtWybvETZYDdbfduRp2ZmD2f7N7rUbNszv+wFAR6gFAACsWiMjXfC0Zcv89r/v\nvuOrwiY22R8Mym67rbvfH7/vvolH+3R301u+uWnT8dVfk1WDDfYOG1xOuXmzPmIAQi0AAIApnHxy\ntz3sYXPf9777JlSFPf0FGcu23Pn7f/LdSrDB5ZS33JJ88Yvd2KFD0x9706bJq8IG+4YNNt0fXEa5\nbdv8vhcAK41QCwAAYBH0A7HTT++P/I/u5tV/MuO+3/lOVw02WBXWrwYbDMpuu627PXAg+fKXx8en\ns379Q68gObE6bKom+9u2qRADVg6hFgAAwAqzYUMXKu3aNfd9jx3rKr/6oVi/V9hUTfbvuCO56abu\n9tChLlCbStV4Zdh01WATm+33AzNXmgQWkh8pAAAAq8jIyHggtnfv3PZtrQvBBqvBJlaJ9avD+lea\n/PrXu9uDB6cPxJIuANuy5fgeYoO3u3ZNvpxy+/bkpJPm/z0BViehFgAAAEnGK7F27Eh2757bvq0l\n3/721FVhg032+1VhN9wwHpw98MD0xx8dPb4qrL88crAqrL98sh+c9R9v2jT/7wmwcgm1AAAAOGFV\n433E5hqIJV2V11S9w26//aHLKb/2tfHg7N57pz/2hg0PvYLkYM+wqZrs79zZfT0jI/P6lgCLTKgF\nAADAstuwITn77O7+ox89t32/852uImzwqpITq8IGA7Pbb0+uv757fPDg9Mdet268Sf5kPcMGm+wP\nPr99e7cJxGDxCLUAAAAYahs2dMHSaafNfd8jR5LDhx9aFTa4ZHJis/2bbhq/f+zY1Mdet64LuyZe\nSXKwZ9jE5ZSDjwViMD2hFgAAAGvW+vXjVVVz1VoXiPWDr8mqwiYuozxwYPzxbPqITawGm6oqbGJw\ntnHj/L4fMEyEWgAAADAPVV1T+i1b5rf/4cPHV4FNvJ3YbP+mm5KrruoqyQ4fnv7Yo6NTX0myXw02\n1XLK+X49sNSEWgAAALAMRke7rd9LbLZaS+6///iqsMFqsMnGv/a15Npru6qymRrrb9o0eVXY4BLJ\nwcb6/eDslFMEYsxOVV2Q5O1J1iV5Z2vtt+dzHKEWAAAADJGqZPPmbjv99Lnvf+TIeAVYvxpsYlVY\nv5/Y2Fiyf//xQVlrUx+7v5xzYo+wqZrrDwZnW7fqI7YWVNW6JH+Y5B8l2Z/kqqq6rLX2pbkeS6gF\nAAAAa8j69fNvrN9aF3pNVxV2xx1dGHbnnd22b18XmN1zTxeoTad/pcl+KDY2Nr+vkRXtqUn2tdZu\nSpKqujTJhUmEWnOxc+fOXHHFFcs9DQAAYC143/uSk05K/A3CKjIykpxxRrc96lHTv/bo0eT++9fl\n3nvX59ChDbn33nUZG9uQw4fX927X5Z57NuTb316Xu+7amG99a10e8Yj12bXr5lxxxR1L8wWxUNZX\n1dUDjy9prV3Su/+wJLcMPLc/yQ/O603mOblV4eDBgzn//POXexoAAADAlJ6w3BNg7o601s5b7Dex\nWhUAAACApXIgyZ6Bx7t7Y3Mm1AIAAABgqVyV5Nyq2ltVG5NclOSy+RxoTS8/BAAAAGDptNaOVNWr\nknw0ybok726tXT+fY1Wb7lqcq9zo6Gg7fPjwck8DAAAAYNWoqvtaa6OL/T6WHwIAAAAwdIRaAAAA\nAAwdoRYAAAAAQ0eoBQAAAMDQEWoBAAAAMHSEWgAAAAAMHaEWAAAAAENHqAUAAADA0BFqAQAAADB0\nhFoAAAAADB2hFgAAAABDR6gFAAAAwNARagEAAAAwdIRaAAAAAAwdoRYAAAAAQ2fZQq2q+tWqOlBV\n1/S25w88d3FV7auqr1TVcwfGL+iN7auq1w2M762qz/TGP1BVG5f66wEAAABg6Sx3pdbbWmvf39su\nT5KqelySi5I8PskFSf5zVa2rqnVJ/jDJ85I8LslP9V6bJG/pHeucJHcl+dml/kIAAAAAWDrLHWpN\n5sIkl7bWHmit3ZxkX5Kn9rZ9rbWbWmsPJrk0yYVVVUmemeSDvf3fm+SFyzBvAAAAAJbIcodar6qq\na6vq3VV1Sm/sYUluGXjN/t7YVOO7ktzdWjsyYXxSVfXyqrq6qq4+cuTIVC8DAAAAYAVbv5gHr6pP\nJDlzkqden+QdSX49Sevd/l6Sly3mfJKktXZJkkt68ztWVd9e7PdcAuuTSOhYyZyjDAPnKSudc5SV\nzjnKSuccZaVbTefo5qV4k0UNtVprz57N66rqj5L8ee/hgSR7Bp7e3RvLFON3JtlRVet71VqDr59p\nfstdqbYgqurq1tp5yz0PmIpzlGHgPGWlc46y0jlHWemco6x0ztG5W86rH5418PCfJLmud/+yJBdV\n1UlVtTfJuUk+m+SqJOf2rnS4MV0z+ctaay3JJ5O8qLf/S5J8ZCm+BgAAAACWx6JWas3gd6rq+9Mt\nP/xakv89SVpr11fVnyb5Urqyu1e21o4mSVW9KslHk6xL8u7W2vW9Y/27JJdW1W8k+UKSdy3lFwIA\nAADA0lq2UKu19jPTPPfmJG+eZPzyJJdPMn5TuqsjrlWXLPcEYAbOUYaB85SVzjnKSuccZaVzjrLS\nOUfnqLrVewAAAAAwPFZFo3QAAAAA1hahFgAAAABDR6g15Krqgqr6SlXtq6rXLfd8WB2q6t1VdVtV\nXTcwtrOqPl5VX+3dntIbr6r6/d45eG1VPWlgn5f0Xv/VqnrJwPiTq+pve/v8flXVfN+Dtaeq9lTV\nJ6vqS1V1fVW9pjfuHGVFqKpNVfXZqvpi7xx9U298b1V9pneefKB3Nef0rvj8gd74Z6rqkQPHurg3\n/pWqeu7A+KSf//N5D9auqlpXVV+oqj/vPXaOsqJU1dd6n8fXVNXVvTGf96wYVbWjqj5YVV+uqhuq\n6unO0SXWWrMN6ZbuKpA3JvmeJBuTfDHJ45Z7Xrbh35L8SJInJbluYOx3kryud/91Sd7Su//8JH+R\npJI8LclneuM7k9zUuz2ld/+U3nOf7b22evs+bz7vYVubW5Kzkjypd39rkr9L8jjnqG2lbL3zYEvv\n/oYkn+mdF3+a5KLe+H9J8vO9+7+Q5L/07l+U5AO9+4/rfbaflGRv7zN/3XSf/3N9D9va3pL8UpI/\nSfLnvcfOUduK2pJ8LcmpE8Z83ttWzJbkvUn+Ve/+xiQ7nKNLu6nUGm5PTbKvtXZTa+3BJJcmuXCZ\n58Qq0Fr7X0kOThi+MN0P7fRuXzgw/r7WuTLJjqo6K8lzk3y8tXawtXZXko8nuaD33LbW2pWt+8n7\nvgnHmst7sAa11m5trX2+d/9QkhuSPCzOUVaI3nlwb+/hht7WkjwzyQd74xPPn/559cEkz+r9S+yF\nSS5trT3QWrs5yb50n/2Tfv739pnre7BGVdXuJP84yTt7j+dz/jhHWQ4+71kRqmp7umKAdyVJa+3B\n1trdcY4uKaHWcHtYklsGHu/vjcFiOKO1dmvv/jeTnNG7P9V5ON34/knG5/MerHG95Sk/kK4SxjnK\nilHdsq5rktyW7pfTG5Pc3Vo70nvJ4Dny3fOn9/w9SXZl7ufurnm8B2vXf0zy2iTHeo/nc/44R1ls\nLcnHqupzVfXy3pjPe1aKvUluT/Ke6pZyv7OqRuMcXVJCLWDOev9S0Ib9PRhuVbUlyYeS/B+ttbHB\n55yjLLfW2tHW2vcn2Z2uauWxyzwl+K6qekGS21prn1vuucAMntFae1KS5yV5ZVX9yOCTPu9ZZuvT\ntWx5R2vtB5IcTrcU8Luco4tPqDXcDiTZM/B4d28MFsO3+qWrvdvbeuNTnYfTje+eZHw+78EaVVUb\n0gVa72+t/ffesHOUFae3DOGTSZ6ebgnA+t5Tg+fId8+f3vPbk9yZuZ+7d87jPVibfjjJT1TV19It\nDXxmkrfHOcoK01o70Lu9LcmH0/0jgc97Vor9Sfa31j7Te/zBdCGXc3QJCbWG21VJzq3uKjIb0zXV\nvGyZ58TqdVmS/pU4XpLkIwPjL+5daeNpSe7plcJ+NMlzquqU3tU4npPko73nxqrqab1eGS+ecKy5\nvAdrUO+8eVeSG1pr/2HgKecoK0JVnVZVO3r3Nyf5R+l6v30yyYt6L5t4/vTPqxcl+evev7peluSi\n6q4KtzfJuekaxk76+d/bZ67vwRrUWru4tba7tfbIdOfPX7fW/kWco6wgVTVaVVv799N9Tl8Xn/es\nEK21bya5paoe0xt6VpIvxTm6tNoK6FZvm/+W7uoGf5euV8frl3s+ttWxJfl/ktya5Dvp/gXiZ9P1\ntfirJF9N8okkO3uvrSR/2DsH/zbJeQPHeVm6prH7kvzLgfHz0v1ScmOSP0hSvfE5v4dt7W1JnpGu\nxPraJNf0tuc7R20rZUvyvUm+0DtHr0vyht7496T7g39fkv+W5KTe+Kbe4329579n4Fiv751XX0nv\nike98Uk//+fzHra1vSU5P+NXP3SO2lbM1jtXvtjbru+fRz7vbStpS/L9Sa7ufeb/WbqrFzpHl3Dr\nf0MAAAAAYGhYfggAAADA0BFqAQAAADB0hFoAAAAADB2hFgAAAABDR6gFAAAAwNARagEAAAAwdIRa\nAAAAAAyd/x9ny7rexqeoNgAAAABJRU5ErkJggg==\n",
            "text/plain": [
              "<Figure size 1440x720 with 2 Axes>"
            ]
          },
          "metadata": {
            "tags": []
          }
        }
      ]
    },
    {
      "cell_type": "code",
      "metadata": {
        "id": "LYWZdLe-cfA2",
        "colab_type": "code",
        "colab": {}
      },
      "source": [
        "def features(X):\n",
        "    strain = []\n",
        "    strain.append(X.mean())\n",
        "    strain.append(X.std())\n",
        "    strain.append(X.min())\n",
        "    strain.append(X.max())\n",
        "    strain.append(X.kurtosis())\n",
        "    strain.append(X.skew())\n",
        "    strain.append(np.quantile(X,0.01))\n",
        "    strain.append(np.quantile(X,0.05))\n",
        "    strain.append(np.quantile(X,0.95))\n",
        "    strain.append(np.quantile(X,0.99))\n",
        "    strain.append(np.abs(X).max())\n",
        "    strain.append(np.abs(X).mean())\n",
        "    strain.append(np.abs(X).std())\n",
        "    return pd.Series(strain)\n"
      ],
      "execution_count": 0,
      "outputs": []
    },
    {
      "cell_type": "code",
      "metadata": {
        "id": "mmcExVxDcgYN",
        "colab_type": "code",
        "colab": {}
      },
      "source": [
        "# Chunksize = 150000 because that is the exact size of test files\n",
        "\n",
        "train = pd.read_csv('train.csv', iterator=True, chunksize=150000, dtype={'acoustic_data': np.int16, 'time_to_failure': np.float64})\n",
        "\n",
        "X_train = pd.DataFrame()\n",
        "y_train = pd.Series()\n",
        "for df in train:\n",
        "    t = features(df['acoustic_data'])\n",
        "    X_train = X_train.append(t, ignore_index=True)\n",
        "    y_train = y_train.append(pd.Series(df['time_to_failure'].values[-1]))\n",
        "    \n",
        "xtrain = StandardScaler().fit_transform(X_train)    "
      ],
      "execution_count": 0,
      "outputs": []
    },
    {
      "cell_type": "code",
      "metadata": {
        "id": "b-tZBASwevfB",
        "colab_type": "code",
        "colab": {
          "base_uri": "https://localhost:8080/",
          "height": 101
        },
        "outputId": "4d21e555-f114-43d4-d316-f315508575a3"
      },
      "source": [
        "#  5 - Fold Random Forest Regressor \n",
        "\n",
        "kf = KFold(n_splits=5, random_state=None)\n",
        "model = RandomForestRegressor(n_estimators=200,criterion='mse',oob_score=True, random_state=0)\n",
        "\n",
        "for (train_index, test_index), i  in zip(kf.split(X_train,y_train),range(1,6)):\n",
        "        \n",
        "    model.fit(X_train.iloc[train_index],y_train.iloc[train_index])\n",
        "    print(\"model\",i,\" - \",model.score(X_train.iloc[test_index],y_train.iloc[test_index]))\n",
        "    "
      ],
      "execution_count": 67,
      "outputs": [
        {
          "output_type": "stream",
          "text": [
            "model 1  -  0.4148729844913657\n",
            "model 2  -  0.3176570528856453\n",
            "model 3  -  0.24870630923414305\n",
            "model 4  -  0.5355630297623764\n",
            "model 5  -  0.26092080343805335\n"
          ],
          "name": "stdout"
        }
      ]
    },
    {
      "cell_type": "code",
      "metadata": {
        "id": "YHc9u8ObscFM",
        "colab_type": "code",
        "colab": {
          "base_uri": "https://localhost:8080/",
          "height": 50
        },
        "outputId": "b7b4132d-5bb0-4d31-f314-bd1bb3149ce3"
      },
      "source": [
        "#  SVR Implementation with GridSearchCV\n",
        "\n",
        "parameters = [{'gamma': [0.005, 0.01, 0.02, 0.05, 0.1],\n",
        "               'C': [0.5, 1, 1.5, 2]}]\n",
        "               \n",
        "\n",
        "model3 = GridSearchCV(SVR(kernel='rbf', tol=0.01), parameters, cv=5, scoring='neg_mean_absolute_error')\n",
        "model3.fit(xtrain, y_train.ravel())\n",
        "\n",
        "print(\"Best CV score: {:.4f}\".format(model3.best_score_))\n",
        "print(model3.best_params_)"
      ],
      "execution_count": 81,
      "outputs": [
        {
          "output_type": "stream",
          "text": [
            "Best CV score: -2.1722\n",
            "{'C': 2, 'gamma': 0.02}\n"
          ],
          "name": "stdout"
        }
      ]
    },
    {
      "cell_type": "code",
      "metadata": {
        "id": "IbncQULGwg4X",
        "colab_type": "code",
        "colab": {
          "base_uri": "https://localhost:8080/",
          "height": 168
        },
        "outputId": "711120d1-08ba-4110-d38f-1f41ede2aae6"
      },
      "source": [
        "#  Processing test data\n",
        "\n",
        "seg_id = list()\n",
        "X_test = pd.DataFrame()\n",
        "\n",
        "for i in sorted(os.listdir(os.getcwd())):\n",
        "  if i[0:3] == 'seg':\n",
        "    temp = pd.read_csv(i, dtype={'acoustic_data': np.int16})\n",
        "    t = features(temp['acoustic_data'])\n",
        "    X_test = X_test.append(t,ignore_index = True)\n",
        "    seg_id.append(i[0:-4])\n",
        " \n",
        "xtest = StandardScaler().fit_transform(X_test)\n",
        "\n",
        "del temp,X_test,t"
      ],
      "execution_count": 124,
      "outputs": [
        {
          "output_type": "stream",
          "text": [
            "(2624, 13)\n",
            "         0         1      2      3   ...    9      10        11        12\n",
            "0  4.491780  4.893690  -75.0  115.0  ...  18.0  115.0  5.224607  4.102161\n",
            "1  4.171153  5.922839 -140.0  152.0  ...  20.0  152.0  5.198340  5.045369\n",
            "2  4.610260  6.946990 -193.0  248.0  ...  20.0  248.0  5.597193  6.179525\n",
            "3  4.531473  4.114147  -93.0   85.0  ...  14.0   93.0  4.961487  3.583863\n",
            "4  4.128340  5.797164 -147.0  177.0  ...  19.0  177.0  5.070900  4.993617\n",
            "\n",
            "[5 rows x 13 columns]\n"
          ],
          "name": "stdout"
        }
      ]
    },
    {
      "cell_type": "code",
      "metadata": {
        "id": "5ZVwAUA10iPA",
        "colab_type": "code",
        "colab": {}
      },
      "source": [
        "# Prediction and Output\n",
        "\n",
        "y = model3.predict(xtest)\n",
        "submission = pd.DataFrame({'seg_id':seg_id,'time_to_failure':list(y)})\n",
        "submission.to_csv('submission.csv',index = False)\n",
        "files.download('submission.csv')\n"
      ],
      "execution_count": 0,
      "outputs": []
    }
  ]
}
